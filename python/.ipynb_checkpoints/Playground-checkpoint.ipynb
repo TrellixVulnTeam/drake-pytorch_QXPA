{
 "cells": [
  {
   "cell_type": "code",
   "execution_count": 99,
   "metadata": {},
   "outputs": [
    {
     "name": "stdout",
     "output_type": "stream",
     "text": [
      "The autoreload extension is already loaded. To reload it, use:\n",
      "  %reload_ext autoreload\n"
     ]
    }
   ],
   "source": [
    "%load_ext autoreload\n",
    "%autoreload 2"
   ]
  },
  {
   "cell_type": "code",
   "execution_count": 100,
   "metadata": {},
   "outputs": [],
   "source": [
    "# High-level imports test\n",
    "import pydrake\n",
    "import torch\n",
    "import numpy as np"
   ]
  },
  {
   "cell_type": "code",
   "execution_count": null,
   "metadata": {},
   "outputs": [],
   "source": [
    "torch.compiled_with_cxx11_abi()"
   ]
  },
  {
   "cell_type": "markdown",
   "metadata": {},
   "source": [
    "## Test 1: pytorch gradients -> np.array of pydrake.AutoDiffXd's"
   ]
  },
  {
   "cell_type": "code",
   "execution_count": 101,
   "metadata": {},
   "outputs": [
    {
     "data": {
      "text/plain": [
       "<torch._C.Generator at 0x7f23121a87b0>"
      ]
     },
     "execution_count": 101,
     "metadata": {},
     "output_type": "execute_result"
    }
   ],
   "source": [
    "import torch.nn as nn\n",
    "import torch.nn.functional as F\n",
    "import torch.optim as optim\n",
    "\n",
    "torch.manual_seed(1)"
   ]
  },
  {
   "cell_type": "code",
   "execution_count": 86,
   "metadata": {},
   "outputs": [
    {
     "name": "stdout",
     "output_type": "stream",
     "text": [
      "tensor([[-0.4843,  0.2530, -1.4553],\n",
      "        [-0.5420, -0.1680, -0.0520]], grad_fn=<AddmmBackward>)\n"
     ]
    },
    {
     "data": {
      "text/plain": [
       "dtype('float64')"
      ]
     },
     "execution_count": 86,
     "metadata": {},
     "output_type": "execute_result"
    }
   ],
   "source": [
    "lin = nn.Linear(5, 3)    # maps from R^5 to R^3, parameters A, b\n",
    "data = torch.from_numpy(np.random.randn(2, 5).astype(np.float32)) # data is 2x5.  A maps from 5 to 3... can we map \"data\" under A?\n",
    "print(lin(data))\n",
    "# print(F.relu(lin(data)))\n",
    "np.random.randn(2, 5).dtype"
   ]
  },
  {
   "cell_type": "code",
   "execution_count": 80,
   "metadata": {},
   "outputs": [
    {
     "data": {
      "text/plain": [
       "tensor([[-4.4294e-01,  1.4079e+00, -3.3578e-02,  1.0339e+00,  8.7792e-01],\n",
       "        [-1.3920e+00, -4.0329e-01,  1.7280e+00, -2.1355e+00, -1.5609e-03]])"
      ]
     },
     "execution_count": 80,
     "metadata": {},
     "output_type": "execute_result"
    }
   ],
   "source": [
    "torch.randn(2, 5)"
   ]
  },
  {
   "cell_type": "code",
   "execution_count": null,
   "metadata": {},
   "outputs": [],
   "source": [
    "import pydrake\n",
    "import pydrake.autodiffutils\n",
    "from pydrake.autodiffutils import AutoDiffXd\n",
    "\n",
    "x = AutoDiffXd(1.5)\n",
    "arr = np.ndarray((3,), buffer=np.array([1,2,3]), dtype=np.float64)\n",
    "y = AutoDiffXd(1.5, arr)\n",
    "for var in (x, y):\n",
    "    print(var.value(), var.derivatives())"
   ]
  },
  {
   "cell_type": "markdown",
   "metadata": {},
   "source": [
    "## Test 2: Implement a pydrake LeafSystem and get pytorch ff bits working"
   ]
  },
  {
   "cell_type": "markdown",
   "metadata": {},
   "source": [
    "This is a great reference!\n",
    "https://github.com/RobotLocomotion/drake/blob/master/bindings/pydrake/systems/test/custom_test.py"
   ]
  },
  {
   "cell_type": "code",
   "execution_count": 102,
   "metadata": {},
   "outputs": [],
   "source": [
    "from NNSystem import NNSystem\n",
    "from NNTestSetup import NNTestSetup"
   ]
  },
  {
   "cell_type": "code",
   "execution_count": 103,
   "metadata": {},
   "outputs": [
    {
     "name": "stdout",
     "output_type": "stream",
     "text": [
      "Connecting to meshcat-server at zmq_url=tcp://127.0.0.1:6000...\n",
      "You can open the visualizer by visiting the following URL:\n",
      "http://127.0.0.1:7000/static/\n",
      "Connected to meshcat-server.\n"
     ]
    }
   ],
   "source": [
    "# NOT passing in a pytorch net.\n",
    "nn_test_setup = NNTestSetup()\n",
    "nn_test_setup.RunSimulation()"
   ]
  },
  {
   "cell_type": "code",
   "execution_count": 112,
   "metadata": {},
   "outputs": [
    {
     "name": "stdout",
     "output_type": "stream",
     "text": [
      "Connecting to meshcat-server at zmq_url=tcp://127.0.0.1:6000...\n",
      "You can open the visualizer by visiting the following URL:\n",
      "http://127.0.0.1:7000/static/\n",
      "Connected to meshcat-server.\n"
     ]
    }
   ],
   "source": [
    "# Giving NNSystem a pytorch net.\n",
    "class MLP(nn.Module):\n",
    "    def __init__(self, layer_norm=False):\n",
    "        super(MLP, self).__init__()\n",
    "        self.l1 = nn.Linear(4, 64)\n",
    "        self.ln1 = nn.LayerNorm(64)\n",
    "        self.tanh1 = F.tanh\n",
    "        self.l2 = nn.Linear(64, 64)\n",
    "        self.ln2 = nn.LayerNorm(64)\n",
    "        self.tanh2 = F.tanh\n",
    "        self.l3 = nn.Linear(64, 1)\n",
    "    \n",
    "    def forward(self, x):\n",
    "        x = self.l1(x)\n",
    "        if self.layer_norm:\n",
    "            x = self.ln1(x)\n",
    "        x = self.tanh1(x)\n",
    "        x = self.l2(x)\n",
    "        if self.layer_norm:\n",
    "            x = self.ln2(x)\n",
    "        x = self.tanh2(x)\n",
    "        x = self.l3(x)\n",
    "        return out\n",
    "\n",
    "nn_test_setup = NNTestSetup(pytorch_nn_object=MLP())\n",
    "nn_test_setup.RunSimulation()"
   ]
  },
  {
   "cell_type": "markdown",
   "metadata": {},
   "source": [
    "## Test 3: Propagate autodiff bits in the LeafSystem. May require dropping down into c++"
   ]
  },
  {
   "cell_type": "code",
   "execution_count": null,
   "metadata": {},
   "outputs": [],
   "source": []
  }
 ],
 "metadata": {
  "kernelspec": {
   "display_name": "Python 2",
   "language": "python",
   "name": "python2"
  },
  "language_info": {
   "codemirror_mode": {
    "name": "ipython",
    "version": 2
   },
   "file_extension": ".py",
   "mimetype": "text/x-python",
   "name": "python",
   "nbconvert_exporter": "python",
   "pygments_lexer": "ipython2",
   "version": "2.7.12"
  }
 },
 "nbformat": 4,
 "nbformat_minor": 2
}
