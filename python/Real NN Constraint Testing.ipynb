{
 "cells": [
  {
   "cell_type": "code",
   "execution_count": 1,
   "metadata": {},
   "outputs": [],
   "source": [
    "%matplotlib inline\n",
    "%load_ext autoreload\n",
    "%autoreload 2"
   ]
  },
  {
   "cell_type": "code",
   "execution_count": 2,
   "metadata": {},
   "outputs": [],
   "source": [
    "from __future__ import print_function, absolute_import\n",
    "import matplotlib.pyplot as plt\n",
    "import numpy as np"
   ]
  },
  {
   "cell_type": "code",
   "execution_count": 13,
   "metadata": {},
   "outputs": [
    {
     "name": "stdout",
     "output_type": "stream",
     "text": [
      "total params:  134\n"
     ]
    }
   ],
   "source": [
    "import pydrake\n",
    "from pydrake.all import (\n",
    "    AutoDiffXd, Expression, Variable,\n",
    "    MathematicalProgram, SolverType, SolutionResult,\n",
    "    DirectCollocationConstraint, AddDirectCollocationConstraint,\n",
    "    PiecewisePolynomial,\n",
    ")\n",
    "\n",
    "# import torch\n",
    "# import torch.nn as nn\n",
    "# import torch.nn.functional as F\n",
    "\n",
    "from traj.dircol import (\n",
    "    make_real_dircol_mp,\n",
    ")\n",
    "\n",
    "from nn_system.NNSystemHelper import (\n",
    "    FC,\n",
    "    MLP,\n",
    "    MLPSMALL,\n",
    "    make_NN_constraint,\n",
    ")\n",
    "\n",
    "##############################\n",
    "#       SETTINGS\n",
    "##############################\n",
    "# kNetConstructor = FC\n",
    "kNetConstructor = MLPSMALL\n",
    "# kNetConstructor = MLP\n",
    "kNumTimesteps = 21\n",
    "prog, tree = make_real_dircol_mp(expmt=\"acrobot\", seed=1776)\n",
    "\n",
    "# Make vars for mathematical program to know about neural network\n",
    "num_params = sum(tensor.nelement() for tensor in kNetConstructor().parameters())\n",
    "num_inputs = 1\n",
    "num_states = 4\n",
    "print(\"total params: \", sum((num_inputs, num_states, num_params)))\n",
    "T = prog.NewContinuousVariables(num_params, 'T')\n",
    "\n",
    "# Apply this NN constraint to all timesteps!\n",
    "for t in range(kNumTimesteps):\n",
    "    # Only one output value, so let's have lb and ub of just size one!\n",
    "    constraint = make_NN_constraint(kNetConstructor, num_inputs, num_states, num_params)\n",
    "    lb         = -np.array([.001])\n",
    "    ub         = np.array([.001])\n",
    "    var_list   = np.hstack((prog.input(0), prog.state(0), T))\n",
    "    prog.AddConstraint(constraint, lb, ub, var_list)\n",
    "    pass\n"
   ]
  },
  {
   "cell_type": "code",
   "execution_count": 14,
   "metadata": {},
   "outputs": [
    {
     "data": {
      "text/plain": [
       "[<matplotlib.lines.Line2D at 0x7f1f0dbc51d0>,\n",
       " <matplotlib.lines.Line2D at 0x7f1f0dbc5290>]"
      ]
     },
     "execution_count": 14,
     "metadata": {},
     "output_type": "execute_result"
    },
    {
     "data": {
      "image/png": "[encoded data removed]",
      "text/plain": [
       "<Figure size 432x288 with 1 Axes>"
      ]
     },
     "metadata": {
      "needs_background": "light"
     },
     "output_type": "display_data"
    }
   ],
   "source": [
    "############################################################\n",
    "# Run this cell to run the code!\n",
    "############################################################\n",
    "\n",
    "prog.SetSolverOption(SolverType.kSnopt, 'Print file', \"/tmp/snopt.out\")\n",
    "ret = prog.Solve()\n",
    "\n",
    "x_trajectory = prog.ReconstructStateTrajectory()\n",
    "breaks = np.linspace(x_trajectory.start_time(),x_trajectory.end_time(),100)\n",
    "x_knots = np.hstack([x_trajectory.value(t) for t in breaks])\n",
    "\n",
    "plt.plot(breaks, x_knots[0,:], breaks, x_knots[1,:])"
   ]
  },
  {
   "cell_type": "code",
   "execution_count": null,
   "metadata": {},
   "outputs": [],
   "source": [
    "sum((1, 2, 3))"
   ]
  },
  {
   "cell_type": "code",
   "execution_count": null,
   "metadata": {},
   "outputs": [],
   "source": [
    "net = MLP()\n",
    "print([param.data.size() for param in list(net.parameters())])\n",
    "# print(list(net.parameters()))\n",
    "print(net)"
   ]
  },
  {
   "cell_type": "code",
   "execution_count": null,
   "metadata": {},
   "outputs": [],
   "source": [
    "x = list(range(3))\n",
    "print([('a' if elem < 2 else -1) for elem in x])"
   ]
  },
  {
   "cell_type": "code",
   "execution_count": null,
   "metadata": {},
   "outputs": [],
   "source": []
  }
 ],
 "metadata": {
  "kernelspec": {
   "display_name": "Python 2",
   "language": "python",
   "name": "python2"
  },
  "language_info": {
   "codemirror_mode": {
    "name": "ipython",
    "version": 2
   },
   "file_extension": ".py",
   "mimetype": "text/x-python",
   "name": "python",
   "nbconvert_exporter": "python",
   "pygments_lexer": "ipython2",
   "version": "2.7.12"
  }
 },
 "nbformat": 4,
 "nbformat_minor": 2
}
