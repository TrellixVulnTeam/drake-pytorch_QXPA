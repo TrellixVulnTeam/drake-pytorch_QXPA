{
 "cells": [
  {
   "cell_type": "code",
   "execution_count": 1,
   "metadata": {},
   "outputs": [],
   "source": [
    "%matplotlib inline\n",
    "%load_ext autoreload\n",
    "%autoreload 2"
   ]
  },
  {
   "cell_type": "code",
   "execution_count": 2,
   "metadata": {},
   "outputs": [],
   "source": [
    "from __future__ import print_function, absolute_import\n",
    "import matplotlib.pyplot as plt\n",
    "import numpy as np\n",
    "\n",
    "import pydrake\n",
    "from pydrake.all import (\n",
    "    AutoDiffXd, Expression, Variable,\n",
    "    MathematicalProgram, SolverType, SolutionResult,\n",
    "    DirectCollocationConstraint, AddDirectCollocationConstraint,\n",
    "    PiecewisePolynomial,\n",
    ")\n",
    "\n",
    "# import torch\n",
    "# import torch.nn as nn\n",
    "# import torch.nn.functional as F\n",
    "\n",
    "from traj.dircol import (\n",
    "    make_real_dircol_mp,\n",
    ")\n",
    "\n",
    "from nn_system.NNSystemHelper import (\n",
    "    FC, MLPSMALL, MLP,\n",
    "    make_NN_constraint,\n",
    ")"
   ]
  },
  {
   "cell_type": "code",
   "execution_count": 3,
   "metadata": {},
   "outputs": [
    {
     "name": "stdout",
     "output_type": "stream",
     "text": [
      "total params:  134\n"
     ]
    }
   ],
   "source": [
    "##############################\n",
    "#       SETTINGS\n",
    "##############################\n",
    "# kNetConstructor = FC\n",
    "\n",
    "kNetConstructor = MLPSMALL\n",
    "# kNetConstructor = MLP\n",
    "kNumTimesteps = 21\n",
    "prog, tree = make_real_dircol_mp(expmt=\"acrobot\", seed=1776)\n",
    "\n",
    "# Make vars for mathematical program to know about neural network\n",
    "num_params = sum(tensor.nelement() for tensor in kNetConstructor().parameters())\n",
    "num_inputs = 1\n",
    "num_states = 4\n",
    "print(\"total params: \", sum((num_inputs, num_states, num_params)))\n",
    "T = prog.NewContinuousVariables(num_params, 'T')\n",
    "\n",
    "# Apply this NN constraint to all timesteps!\n",
    "for t in range(kNumTimesteps):\n",
    "    # Only one output value, so let's have lb and ub of just size one!\n",
    "    constraint = make_NN_constraint(kNetConstructor, num_inputs, num_states, num_params)\n",
    "    lb         = -np.array([.001])\n",
    "    ub         = np.array([.001])\n",
    "    var_list   = np.hstack((prog.input(0), prog.state(0), T))\n",
    "    prog.AddConstraint(constraint, lb, ub, var_list)\n",
    "    pass\n"
   ]
  },
  {
   "cell_type": "code",
   "execution_count": 4,
   "metadata": {},
   "outputs": [
    {
     "data": {
      "text/plain": [
       "[<matplotlib.lines.Line2D at 0x7fb64142e050>,\n",
       " <matplotlib.lines.Line2D at 0x7fb64142e190>]"
      ]
     },
     "execution_count": 4,
     "metadata": {},
     "output_type": "execute_result"
    },
    {
     "data": {
      "image/png": "[encoded data removed]",
      "text/plain": [
       "<Figure size 432x288 with 1 Axes>"
      ]
     },
     "metadata": {
      "needs_background": "light"
     },
     "output_type": "display_data"
    }
   ],
   "source": [
    "############################################################\n",
    "# Run this cell to run the code!\n",
    "############################################################\n",
    "\n",
    "prog.SetSolverOption(SolverType.kSnopt, 'Print file', \"/tmp/snopt.out\")\n",
    "ret = prog.Solve()\n",
    "\n",
    "x_trajectory = prog.ReconstructStateTrajectory()\n",
    "breaks = np.linspace(x_trajectory.start_time(),x_trajectory.end_time(),100)\n",
    "x_knots = np.hstack([x_trajectory.value(t) for t in breaks])\n",
    "\n",
    "plt.plot(breaks, x_knots[0,:], breaks, x_knots[1,:])"
   ]
  },
  {
   "cell_type": "markdown",
   "metadata": {},
   "source": [
    "## Test make_NN_constraint"
   ]
  },
  {
   "cell_type": "code",
   "execution_count": 4,
   "metadata": {},
   "outputs": [
    {
     "name": "stdout",
     "output_type": "stream",
     "text": [
      "total params:  134\n"
     ]
    }
   ],
   "source": [
    "# kNetConstructor = FC\n",
    "kNetConstructor = MLPSMALL\n",
    "num_params = sum(tensor.nelement() for tensor in kNetConstructor().parameters())\n",
    "num_inputs = 1\n",
    "num_states = 4\n",
    "total_params = sum((num_inputs, num_states, num_params))\n",
    "print(\"total params: \", total_params)\n",
    "\n",
    "constraint = make_NN_constraint(kNetConstructor, num_inputs, num_states, num_params)"
   ]
  },
  {
   "cell_type": "code",
   "execution_count": 5,
   "metadata": {
    "scrolled": true
   },
   "outputs": [
    {
     "name": "stdout",
     "output_type": "stream",
     "text": [
      "0 1.0 1.0\n",
      "1 -0.0029247340192 -0.002905331695101765\n",
      "2 -0.0029247340192 -0.002905331695101765\n",
      "3 -0.0029247340192 -0.002905331695101765\n",
      "4 -0.0029247340192 -0.002905331695101765\n",
      "5 -0.000182795876196 -0.0001815832309438603\n",
      "6 -0.000182795876196 -0.0001815832309438603\n",
      "7 -0.000182795876196 -0.0001815832309438603\n",
      "8 -0.000182795876196 -0.0001815832309438603\n",
      "9 -0.000182795876196 -0.0001815832309438603\n",
      "10 -0.000182795876196 -0.0001815832309438603\n",
      "11 -0.000182795876196 -0.0001815832309438603\n",
      "12 -0.000182795876196 -0.0001815832309438603\n",
      "13 -0.000182795876196 -0.0001815832309438603\n",
      "14 -0.000182795876196 -0.0001815832309438603\n",
      "15 -0.000182795876196 -0.0001815832309438603\n",
      "16 -0.000182795876196 -0.0001815832309438603\n",
      "17 -0.000182795876196 -0.0001815832309438603\n",
      "18 -0.000182795876196 -0.0001815832309438603\n",
      "19 -0.000182795876196 -0.0001815832309438603\n",
      "20 -0.000182795876196 -0.0001815832309438603\n",
      "21 -0.000182795876196 -0.0001815832309438603\n",
      "22 -0.000182795876196 -0.0001815832309438603\n",
      "23 -0.000182795876196 -0.0001815832309438603\n",
      "24 -0.000182795876196 -0.0001815832309438603\n",
      "25 -0.000182795876196 -0.0001815832309438603\n",
      "26 -0.000182795876196 -0.0001815832309438603\n",
      "27 -0.000182795876196 -0.0001815832309438603\n",
      "28 -0.000182795876196 -0.0001815832309438603\n",
      "29 -0.000182795876196 -0.0001815832309438603\n",
      "30 -0.000182795876196 -0.0001815832309438603\n",
      "31 -0.000182795876196 -0.0001815832309438603\n",
      "32 -0.000182795876196 -0.0001815832309438603\n",
      "33 -0.000182795876196 -0.0001815832309438603\n",
      "34 -0.000182795876196 -0.0001815832309438603\n",
      "35 -0.000182795876196 -0.0001815832309438603\n",
      "36 -0.000182795876196 -0.0001815832309438603\n",
      "37 -0.000182795876196 -0.0001815832309438603\n",
      "38 -0.000182795876196 -0.0001815832309438603\n",
      "39 -0.000182795876196 -0.0001815832309438603\n",
      "40 -0.000182795876196 -0.0001815832309438603\n",
      "41 -0.000182795876196 -0.0001815832309438603\n",
      "42 -0.000182795876196 -0.0001815832309438603\n",
      "43 -0.000182795876196 -0.0001815832309438603\n",
      "44 -0.000182795876196 -0.0001815832309438603\n",
      "45 -0.000182795876196 -0.0001815832309438603\n",
      "46 -0.000182795876196 -0.0001815832309438603\n",
      "47 -0.000182795876196 -0.0001815832309438603\n",
      "48 -0.000182795876196 -0.0001815832309438603\n",
      "49 -0.000182795876196 -0.0001815832309438603\n",
      "50 -0.000182795876196 -0.0001815832309438603\n",
      "51 -0.000182795876196 -0.0001815832309438603\n",
      "52 -0.000182795876196 -0.0001815832309438603\n",
      "53 -0.000182795876196 -0.0001815832309438603\n",
      "54 -0.000182795876196 -0.0001815832309438603\n",
      "55 -0.000182795876196 -0.0001815832309438603\n",
      "56 -0.000182795876196 -0.0001815832309438603\n",
      "57 -0.000182795876196 -0.0001815832309438603\n",
      "58 -0.000182795876196 -0.0001815832309438603\n",
      "59 -0.000182795876196 -0.0001815832309438603\n",
      "60 -0.000182795876196 -0.0001815832309438603\n",
      "61 -0.000182795876196 -0.0001815832309438603\n",
      "62 -0.000182795876196 -0.0001815832309438603\n",
      "63 -0.000182795876196 -0.0001815832309438603\n",
      "64 -0.000182795876196 -0.0001815832309438603\n",
      "65 -0.000182795876196 -0.0001815832309438603\n",
      "66 -0.000182795876196 -0.0001815832309438603\n",
      "67 -0.000182795876196 -0.0001815832309438603\n",
      "68 -0.000182795876196 -0.0001815832309438603\n",
      "69 -0.000182795876196 -0.0001815832309438603\n",
      "70 -0.000182795876196 -0.0001815832309438603\n",
      "71 -0.000182795876196 -0.0001815832309438603\n",
      "72 -0.000182795876196 -0.0001815832309438603\n",
      "73 -0.000182795876196 -0.0001815832309438603\n",
      "74 -0.000182795876196 -0.0001815832309438603\n",
      "75 -0.000182795876196 -0.0001815832309438603\n",
      "76 -0.000182795876196 -0.0001815832309438603\n",
      "77 -0.000182795876196 -0.0001815832309438603\n",
      "78 -0.000182795876196 -0.0001815832309438603\n",
      "79 -0.000182795876196 -0.0001815832309438603\n",
      "80 -0.000182795876196 -0.0001815832309438603\n",
      "81 -0.000182795876196 -0.0001815832309438603\n",
      "82 -0.000182795876196 -0.0001815832309438603\n",
      "83 -0.000182795876196 -0.0001815832309438603\n",
      "84 -0.000182795876196 -0.0001815832309438603\n",
      "85 0.0 0.0\n",
      "86 0.0 0.0\n",
      "87 0.0 0.0\n",
      "88 0.0 0.0\n",
      "89 0.0 0.0\n",
      "90 0.0 0.0\n",
      "91 0.0 0.0\n",
      "92 0.0 0.0\n",
      "93 0.0 0.0\n",
      "94 0.0 0.0\n",
      "95 0.0 0.0\n",
      "96 0.0 0.0\n",
      "97 0.0 0.0\n",
      "98 0.0 0.0\n",
      "99 0.0 0.0\n",
      "100 0.0 0.0\n",
      "101 0.0 0.0\n",
      "102 0.0 0.0\n",
      "103 0.0 0.0\n",
      "104 0.0 0.0\n",
      "105 0.0 0.0\n",
      "106 0.0 0.0\n",
      "107 0.0 0.0\n",
      "108 0.0 0.0\n",
      "109 0.0 0.0\n",
      "110 0.0 0.0\n",
      "111 0.0 0.0\n",
      "112 0.0 0.0\n",
      "113 0.0 0.0\n",
      "114 0.0 0.0\n",
      "115 0.0 0.0\n",
      "116 0.0 0.0\n",
      "117 -0.999909204263 -0.9999092042625951\n",
      "118 -0.999909204263 -0.9999092042625951\n",
      "119 -0.999909204263 -0.9999092042625951\n",
      "120 -0.999909204263 -0.9999092042625951\n",
      "121 -0.999909204263 -0.9999092042625951\n",
      "122 -0.999909204263 -0.9999092042625951\n",
      "123 -0.999909204263 -0.9999092042625951\n",
      "124 -0.999909204263 -0.9999092042625951\n",
      "125 -0.999909204263 -0.9999092042625951\n",
      "126 -0.999909204263 -0.9999092042625951\n",
      "127 -0.999909204263 -0.9999092042625951\n",
      "128 -0.999909204263 -0.9999092042625951\n",
      "129 -0.999909204263 -0.9999092042625951\n",
      "130 -0.999909204263 -0.9999092042625951\n",
      "131 -0.999909204263 -0.9999092042625951\n",
      "132 -0.999909204263 -0.9999092042625951\n",
      "133 -1.0 -1.0\n"
     ]
    }
   ],
   "source": [
    "import copy\n",
    "np.random.seed(1776)\n",
    "# Make total_param # of AutoDiffXd's, with (seeded) random values.\n",
    "# Set derivatives array to length total_param with only index i set for ith AutoDiff.\n",
    "# values = np.random.randn(total_params)\n",
    "values = np.ones(total_params)\n",
    "def one_hot(i, n_params):\n",
    "    ret = np.zeros(n_params)\n",
    "    ret[i] = 1\n",
    "    return ret\n",
    "\n",
    "uxT = np.array([AutoDiffXd(values[i], one_hot(i, total_params)) for i in range(total_params)])\n",
    "out = copy.deepcopy(constraint(uxT)[0])\n",
    "out_value = out.value()\n",
    "out_derivatives = out.derivatives()\n",
    "\n",
    "# f     : function(np.array of AutoDiffXd's) -> array of size one of AutoDiffXd\n",
    "# x     : np.array of AutoDiffXd at which to calculate finite_difference\n",
    "# idx   : Index of AutoDiffXd in x to perturb\n",
    "# delta : magnitude of perturbation of AutoDiffXd at index idx of x\n",
    "def finite_difference(f, x, idx, delta):\n",
    "    x_hi = copy.deepcopy(x)\n",
    "    x_hi[idx] += delta\n",
    "    x_lo = copy.deepcopy(x)\n",
    "    x_lo[idx] -= delta\n",
    "#     print(x_hi[idx], x_lo[idx])\n",
    "#     print( [x.value() for x in x_hi], [x.value() for x in x_lo] )\n",
    "    return ( f(x_hi)[0].value() - f(x_lo)[0].value() ) / (2*delta)\n",
    "\n",
    "for idx in range(total_params):\n",
    "    # TODO: figure out how to handle gradients of the tanh and batchnorm layers!\n",
    "#     if out_derivatives[idx] == 0.:\n",
    "#         continue\n",
    "    \n",
    "    # Do finite difference calculation and compare against gradient\n",
    "    grad = finite_difference(constraint, uxT, idx, 0.1)\n",
    "    ref_grad = out_derivatives[idx]\n",
    "    print(idx, grad, ref_grad)"
   ]
  },
  {
   "cell_type": "code",
   "execution_count": 11,
   "metadata": {},
   "outputs": [
    {
     "data": {
      "text/plain": [
       "<AutoDiffXd 2.0 nderiv=2>"
      ]
     },
     "execution_count": 11,
     "metadata": {},
     "output_type": "execute_result"
    }
   ],
   "source": [
    "x = AutoDiffXd(1., [0.1, 0.2])\n",
    "x += 1\n",
    "x"
   ]
  },
  {
   "cell_type": "code",
   "execution_count": 16,
   "metadata": {},
   "outputs": [
    {
     "name": "stdout",
     "output_type": "stream",
     "text": [
      "MLPSMALL(\n",
      "  (l1): Linear(in_features=4, out_features=16, bias=True)\n",
      "  (ln1): LayerNorm(torch.Size([16]), eps=1e-05, elementwise_affine=True)\n",
      "  (l3): Linear(in_features=16, out_features=1, bias=True)\n",
      ")\n",
      "[Parameter containing:\n",
      "tensor([[ 0.0757, -0.0142,  0.0848, -0.0814],\n",
      "        [-0.0377,  0.0661, -0.4897,  0.2619],\n",
      "        [ 0.2305,  0.0537, -0.0722, -0.3796],\n",
      "        [ 0.1554, -0.4840,  0.4360,  0.4918],\n",
      "        [ 0.4527, -0.0643, -0.4547,  0.4941],\n",
      "        [-0.3384, -0.4071, -0.3656,  0.2040],\n",
      "        [ 0.0965, -0.2455, -0.0380, -0.1362],\n",
      "        [-0.1415, -0.3651, -0.2112, -0.3530],\n",
      "        [ 0.2787, -0.2712,  0.3161,  0.1796],\n",
      "        [-0.2665, -0.4744,  0.4302,  0.1276],\n",
      "        [-0.2210,  0.4273,  0.0434,  0.1209],\n",
      "        [-0.0083, -0.1344, -0.4428,  0.1167],\n",
      "        [ 0.4473,  0.3560,  0.3085,  0.4727],\n",
      "        [-0.4283,  0.4581,  0.0588,  0.3790],\n",
      "        [-0.4768, -0.2327, -0.0123, -0.4162],\n",
      "        [ 0.1000,  0.2671,  0.4879, -0.3122]], requires_grad=True), Parameter containing:\n",
      "tensor([-0.1435,  0.3842,  0.4739,  0.1766, -0.4027, -0.3901, -0.3595,  0.2296,\n",
      "        -0.4878, -0.1653,  0.2141,  0.0934, -0.2048, -0.2904, -0.4043, -0.2236],\n",
      "       requires_grad=True), Parameter containing:\n",
      "tensor([1., 1., 1., 1., 1., 1., 1., 1., 1., 1., 1., 1., 1., 1., 1., 1.],\n",
      "       requires_grad=True), Parameter containing:\n",
      "tensor([0., 0., 0., 0., 0., 0., 0., 0., 0., 0., 0., 0., 0., 0., 0., 0.],\n",
      "       requires_grad=True), Parameter containing:\n",
      "tensor([[ 0.1441, -0.2488,  0.0847,  0.1389, -0.0803,  0.0287,  0.2123, -0.2350,\n",
      "         -0.2052, -0.0493, -0.0582, -0.1028, -0.2241, -0.1767,  0.0665,  0.1421]],\n",
      "       requires_grad=True), Parameter containing:\n",
      "tensor([-0.0939], requires_grad=True)]\n"
     ]
    }
   ],
   "source": [
    "print(MLPSMALL())\n",
    "print(list(MLPSMALL().parameters()))"
   ]
  },
  {
   "cell_type": "code",
   "execution_count": 23,
   "metadata": {},
   "outputs": [
    {
     "name": "stdout",
     "output_type": "stream",
     "text": [
      "nelement():  24\n",
      "[ 0  1  2  3  4  5  6  7  8  9 10 11 12 13 14 15 16 17 18 19 20 21 22 23]\n"
     ]
    }
   ],
   "source": [
    "import torch\n",
    "def load_tensor(np_data, shape):\n",
    "    return torch.from_numpy(np_data.reshape(shape))\n",
    "def unload_tensor(tensor):\n",
    "    return tensor.numpy().flatten()\n",
    "                            \n",
    "inp = np.arange(0, 24, 1)\n",
    "tensor = load_tensor(inp, (2, 3, 2, 2))\n",
    "print(\"nelement(): \", tensor.nelement())\n",
    "out = unload_tensor(tensor)\n",
    "print(out)"
   ]
  },
  {
   "cell_type": "code",
   "execution_count": null,
   "metadata": {},
   "outputs": [],
   "source": []
  }
 ],
 "metadata": {
  "kernelspec": {
   "display_name": "Python 2",
   "language": "python",
   "name": "python2"
  },
  "language_info": {
   "codemirror_mode": {
    "name": "ipython",
    "version": 2
   },
   "file_extension": ".py",
   "mimetype": "text/x-python",
   "name": "python",
   "nbconvert_exporter": "python",
   "pygments_lexer": "ipython2",
   "version": "2.7.12"
  }
 },
 "nbformat": 4,
 "nbformat_minor": 2
}
