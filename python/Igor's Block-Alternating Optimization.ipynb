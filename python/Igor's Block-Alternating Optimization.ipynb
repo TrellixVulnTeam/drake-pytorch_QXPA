{
 "cells": [
  {
   "cell_type": "code",
   "execution_count": null,
   "metadata": {},
   "outputs": [],
   "source": [
    "%matplotlib notebook\n",
    "%load_ext autoreload\n",
    "%autoreload 2"
   ]
  },
  {
   "cell_type": "markdown",
   "metadata": {},
   "source": [
    "## Igor's speedy method..."
   ]
  },
  {
   "cell_type": "code",
   "execution_count": null,
   "metadata": {},
   "outputs": [],
   "source": [
    "from __future__ import print_function, absolute_import\n",
    "import matplotlib.pyplot as plt\n",
    "import numpy as np\n",
    "\n",
    "from multiple_traj_opt import (\n",
    "    make_mto,\n",
    "    MultipleTrajOpt,\n",
    "    initial_conditions_Russ,\n",
    "    initial_conditions_grid,\n",
    "    initial_conditions_random,\n",
    ")\n",
    "from nn_system.networks import *"
   ]
  },
  {
   "cell_type": "code",
   "execution_count": null,
   "metadata": {},
   "outputs": [],
   "source": [
    "##### IGOR'S BLOCK-ALTERNATING METHOD\n",
    "# Init work here...\n",
    "# <TODO>\n",
    "\n",
    "# Minibatch optimization... Let's not do any warm starting for Igor's...\n",
    "total_iterations = 10\n",
    "while total_iterations >= 0:\n",
    "    total_iterations -= 1\n",
    "    ic_list = #TODO\n",
    "    igor_traj_opt()\n",
    "    igor_supervised_learning()\n",
    "    visualize_intermediate_results()"
   ]
  }
 ],
 "metadata": {
  "kernelspec": {
   "display_name": "Python 2",
   "language": "python",
   "name": "python2"
  },
  "language_info": {
   "codemirror_mode": {
    "name": "ipython",
    "version": 2
   },
   "file_extension": ".py",
   "mimetype": "text/x-python",
   "name": "python",
   "nbconvert_exporter": "python",
   "pygments_lexer": "ipython2",
   "version": "2.7.12"
  }
 },
 "nbformat": 4,
 "nbformat_minor": 2
}
