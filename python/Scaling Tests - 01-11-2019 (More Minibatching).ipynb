{
 "cells": [
  {
   "cell_type": "code",
   "execution_count": 1,
   "metadata": {},
   "outputs": [],
   "source": [
    "%matplotlib notebook\n",
    "%load_ext autoreload\n",
    "%autoreload 2"
   ]
  },
  {
   "cell_type": "markdown",
   "metadata": {},
   "source": [
    "## Solve a single mto once initiallly"
   ]
  },
  {
   "cell_type": "code",
   "execution_count": 4,
   "metadata": {},
   "outputs": [],
   "source": [
    "from __future__ import print_function, absolute_import\n",
    "import matplotlib.pyplot as plt\n",
    "import numpy as np\n",
    "\n",
    "from multiple_traj_opt import (\n",
    "    make_mto,\n",
    "    MultipleTrajOpt,\n",
    "    initial_conditions_Russ,\n",
    "    initial_conditions_grid,\n",
    "    initial_conditions_random,\n",
    ")\n",
    "from nn_system.networks import *"
   ]
  },
  {
   "cell_type": "code",
   "execution_count": null,
   "metadata": {},
   "outputs": [],
   "source": [
    "new_mto = make_mto()\n",
    "new_mto.Solve()"
   ]
  },
  {
   "cell_type": "markdown",
   "metadata": {},
   "source": [
    "## Repeatedly run any of the cells below to do an iteration of each method!\n",
    "Will switch out the values of old_mto and mto"
   ]
  },
  {
   "cell_type": "code",
   "execution_count": null,
   "metadata": {},
   "outputs": [],
   "source": [
    "# 1) SIMPLE RESTART WITH POTENTIALLY DIFFERENT SETTINGS, full huxT\n",
    "# Then resolve again with (potentially different settings, but using the previous answer as a warm start)\n",
    "def method1(mto):\n",
    "    old_mto = mto\n",
    "    mto = make_mto()\n",
    "\n",
    "    # Warm start...\n",
    "\n",
    "    old_mto_dec_vals = old_mto.prog.GetSolution(old_mto.prog.decision_variables())\n",
    "    mto.prog.SetInitialGuessForAllVariables(old_mto_dec_vals)\n",
    "\n",
    "    mto.Solve()\n",
    "    return old_mto, mto\n",
    "old_mto, new_mto = method1(new_mto)"
   ]
  },
  {
   "cell_type": "code",
   "execution_count": null,
   "metadata": {},
   "outputs": [],
   "source": [
    "# 2) RESTART WITH A DIFFERENT MINIBATCH OF INITIAL CONDITIONS, use limited wallclock time policy rollouts?\n",
    "# Then resolve again with (potentially different settings, but using the previous answer as a warm start)\n",
    "def method2(mto):\n",
    "    old_mto = mto\n",
    "    old_mto_T_vals = old_mto.prog.GetSolution(old_mto.T)\n",
    "    mto = make_mto()\n",
    "\n",
    "    ic_list = #TODO\n",
    "    assert len(ic_list) == num_trajectories\n",
    "    for ic in ic_list:\n",
    "        t_samples, x_samples, u_samples, logger = old_mto.__rollout_policy_at_solution(ti_or_ic=ic) # Be careful about this taking forever!!!!\n",
    "        # Add a return for u_samples!!\n",
    "        warm_start = #TODO: assemble a new batch of h, u, x?\n",
    "        mto.prog.SetInitialGuess(mto.h[ti], ) #TODO\n",
    "        mto.prog.SetInitialGuess(mto.u[ti], ) #TODO\n",
    "        mto.prog.SetInitialGuess(mto.x[ti], ) #TODO\n",
    "    mto.prog.SetInitialGuess(mto.T, old_mto_T_vals)\n",
    "    mto.Solve()\n",
    "    return old_mto, mto\n",
    "old_mto, new_mto = method2(new_mto)"
   ]
  },
  {
   "cell_type": "code",
   "execution_count": null,
   "metadata": {},
   "outputs": [],
   "source": [
    "# 3) RESTART WITH A DIFFERENT MINIBATCH OF INITIAL CONDITIONS, nearby traj. interpolations?\n",
    "# Begs the question, will I want a history of trajectories??\n",
    "# Then resolve again with (potentially different settings, but using the previous answer as a warm start)\n",
    "# Keep a \"BANK\" of trajectories, that we can optionally use for warm starting?\n",
    "# No consistency here!\n",
    "if not trajectories:\n",
    "    trajectories = []\n",
    "def method3(mto, ic_list):\n",
    "    global trajectories\n",
    "    old_mto = mto\n",
    "\n",
    "    for ti in range(num_trajectories):\n",
    "        trajectory = np.hstack([old_mto.GetSolution(var) for var in (old_mto.h[ti], old_mto.u[ti], old_mto.x[ti])]) # (h, u_t's, x_t's)\n",
    "        trajectories.append(trajectory)\n",
    "    if len(trajectories) >mto = mto\n",
    "    old_mto_T_vals = old_mto.prog.GetSolution(old_mto.T)\n",
    "    mto = make_mto()\n",
    "\n",
    "    warm_mto = MultipleTrajOpt(\"pendulum\", 16, 16, 0.2, 0.5, ic_list=ic_list, warm_start=True, seed=old_mto.seed)\n",
    "    warm_mto.add_nn_params(old_mto.kNetConstructor,\n",
    "                      use_constraint    = False,\n",
    "                      cost_factor       = 1.0,\n",
    "                      initialize_params = True, \n",
    "                      reg_type          = old_mto.reg_type)\n",
    "    warm_mto.add_cost_and_constraint_printing_callback(1)\n",
    "    warm_mto.prog.SetInitialGuess(warm_mto.T, old_mto_T_vals) # \"Warm start the warm start with the old network?\"\n",
    "    warm_mto.Solve()\n",
    "\n",
    "    # Warm start paths with fresh solves, but carry over NN\n",
    "    warm_mto_hux_vals = np.hstack([warm_mto.prog.GetSolution(var) for var in (warm_mto.h, warm_mto.u, warm_mto.x)])\n",
    "    mto.prog.SetInitialGuessForAllVariables(np.hstack([warm_mto_hux_vals, old_mto_T_vals]))\n",
    "\n",
    "    mto.Solve() CUTOFF:\n",
    "        trajectories = trajectories[-CUTOFF:] # Keep bank trim and hopefully filter out the old crappy trajectories...\n",
    "    mto = make_mto()\n",
    "\n",
    "    # Warm start... but use a different warm start scheme\n",
    "    ic_list = #TODO\n",
    "    interpolants = []\n",
    "    for ic in ic_list:\n",
    "        # TODO, should have format of (h, u_t's, x_t's). Should be graded by ic and fc (and path?) proximity??\n",
    "        # Can come from the previous solution, or the bank\n",
    "        nearest = #TODO\n",
    "        interpolants.append()\n",
    "    assert len(interpolants) == len(ic_list)\n",
    "    old_mto_dec_vals = old_mto.prog.GetSolution(old_mto.prog.decision_variables())\n",
    "    mto.prog.SetInitialGuessForAllVariables(old_mto_dec_vals)\n",
    "\n",
    "    mto.Solve()\n",
    "    return old_mto, mto\n",
    "old_mto, new_mto = method3(new_mto)"
   ]
  },
  {
   "cell_type": "code",
   "execution_count": null,
   "metadata": {},
   "outputs": [],
   "source": [
    "# 4) RESTART WITH A DIFFERENT MINIBATCH OF INITIAL CONDITIONS, fresh traj. solves? - should i split the traj solves?\n",
    "# Then resolve again with (potentially different settings, but using the previous answer as a warm start)\n",
    "def method4(mto, ic_list):\n",
    "    old_mto = mto\n",
    "    mto = make_mto()\n",
    "\n",
    "    warm_mto = MultipleTrajOpt(\"pendulum\", 16, 16, 0.2, 0.5, ic_list=ic_list, warm_start=True, seed=old_mto.seed)\n",
    "    warm_mto.add_cost_and_constraint_printing_callback(1)\n",
    "    warm_mto.Solve()\n",
    "\n",
    "    # Warm start paths with fresh solves, but carry over NN\n",
    "    warm_mto_hux_vals = np.hstack([warm_mto.prog.GetSolution(var) for var in (warm_mto.h, warm_mto.u, warm_mto.x)])\n",
    "    old_mto_T_vals = old_mto.prog.GetSolution(old_mto.prog.decision_variables())\n",
    "    mto.prog.SetInitialGuessForAllVariables(mto.prog.decision_variables(), np.hstack([warm_mto_hux_vals, old_mto_T_vals]))\n",
    "\n",
    "    mto.Solve()\n",
    "    return old_mto, mto\n",
    "old_mto, new_mto = method4(new_mto)"
   ]
  },
  {
   "cell_type": "code",
   "execution_count": null,
   "metadata": {},
   "outputs": [],
   "source": [
    "# 5) RESTART WITH A DIFFERENT MINIBATCH OF INITIAL CONDITIONS, fresh traj. solves with policy violation cost?\n",
    "# Is this even cheaper?\n",
    "# Then resolve again with (potentially different settings, but using the previous answer as a warm start)\n",
    "def method5(mto, ic_list):\n",
    "    old_mto = mto\n",
    "    old_mto_T_vals = old_mto.prog.GetSolution(old_mto.T)\n",
    "    mto = make_mto()\n",
    "\n",
    "    warm_mto = MultipleTrajOpt(\"pendulum\", 16, 16, 0.2, 0.5, ic_list=ic_list, warm_start=True, seed=old_mto.seed)\n",
    "    warm_mto.add_nn_params(old_mto.kNetConstructor,\n",
    "                      use_constraint    = False,\n",
    "                      cost_factor       = 1.0,\n",
    "                      initialize_params = True, \n",
    "                      reg_type          = old_mto.reg_type)\n",
    "    warm_mto.add_cost_and_constraint_printing_callback(1)\n",
    "    warm_mto.prog.SetInitialGuess(warm_mto.T, old_mto_T_vals) # \"Warm start the warm start with the old network?\"\n",
    "    warm_mto.Solve()\n",
    "\n",
    "    # Warm start paths with fresh solves, but carry over NN\n",
    "    warm_mto_hux_vals = np.hstack([warm_mto.prog.GetSolution(var) for var in (warm_mto.h, warm_mto.u, warm_mto.x)])\n",
    "    mto.prog.SetInitialGuessForAllVariables(np.hstack([warm_mto_hux_vals, old_mto_T_vals]))\n",
    "\n",
    "    mto.Solve()\n",
    "    return old_mto, mto\n",
    "old_mto, new_mto = method5(new_mto)"
   ]
  },
  {
   "cell_type": "code",
   "execution_count": null,
   "metadata": {},
   "outputs": [],
   "source": [
    "# 6) EXPERIMENT WITH CARRYING OVER MORE THAN DECISION VARIABLE INITIAL GUESSES!!!!\n",
    "# THIS WILL BE THE HARDEST EXPERIMENT... IT WILL REQUIRE RECOMPILING A NEW VERSION OF DRAKE????\n",
    "# <TODO>\n",
    "# https://github.com/RobotLocomotion/drake/blob/7c513516620b1e6001fd487e076c39f716027a79/solvers/snopt_solver.cc#L682\n",
    "\n",
    "# Then resolve again with (potentially different settings, but using the previous answer as a warm start)\n",
    "def method6(mto, ic_list):\n",
    "    old_mto = mto\n",
    "    mto = make_mto()\n",
    "\n",
    "    # Warm start... but use a different warm start scheme\n",
    "    old_mto_dec_vals = old_mto.prog.GetSolution(old_mto.prog.decision_variables())\n",
    "    mto.prog.SetInitialGuessForAllVariables(old_mto_dec_vals)\n",
    "\n",
    "    mto.Solve()\n",
    "    return old_mto, mto\n",
    "old_mto, new_mto = method6(new_mto)"
   ]
  },
  {
   "cell_type": "markdown",
   "metadata": {},
   "source": [
    "## Applying the warm starting methods to a full iterative optimization process below"
   ]
  },
  {
   "cell_type": "code",
   "execution_count": null,
   "metadata": {},
   "outputs": [],
   "source": [
    "##### RUSS'S MINIBATCH METHOD\n",
    "# Initial solve here...\n",
    "new_mto = make_mto()\n",
    "new_mto.Solve()\n",
    "\n",
    "# Minibatch optimization...\n",
    "total_iterations = 10\n",
    "while total_iterations >= 0:\n",
    "    total_iterations -= 1\n",
    "    ic_list = #TODO\n",
    "    old_mto, new_mto = methodx(new_mto, ic_list)"
   ]
  },
  {
   "cell_type": "code",
   "execution_count": null,
   "metadata": {},
   "outputs": [],
   "source": [
    "##### IGOR'S BLOCK-ALTERNATING METHOD - THIS IS BEING WORKED ON IN ANOTHER NOTEBOOK!!!!!\n",
    "# Init work here...\n",
    "# <TODO>\n",
    "\n",
    "# Minibatch optimization... Let's not do any warm starting for Igor's...\n",
    "total_iterations = 10\n",
    "while total_iterations >= 0:\n",
    "    total_iterations -= 1\n",
    "    ic_list = #TODO\n",
    "    igor_traj_opt()\n",
    "    igor_supervised_learning()\n",
    "    visualize_intermediate_results()"
   ]
  },
  {
   "cell_type": "markdown",
   "metadata": {},
   "source": [
    "## ----------------------------------------- Visualizations below this line --------------------------------------"
   ]
  },
  {
   "cell_type": "code",
   "execution_count": null,
   "metadata": {},
   "outputs": [],
   "source": [
    "#### Get a sense of the consistency of x and u!\n",
    "# Let's plot all the u's on the z axis and x (theta, theta_dot) on the y and x axes...\n",
    "from mpl_toolkits.mplot3d import Axes3D\n",
    "fig = plt.figure()\n",
    "ax = fig.add_subplot(111, projection='3d')\n",
    "\n",
    "xs, ys, zs = [], [], []\n",
    "for ti in range(new_mto.num_trajectories):\n",
    "    h_sol  = new_mto.prog.GetSolution(new_mto.h[ti])[0]\n",
    "    print(h_sol)\n",
    "\n",
    "    t_s = [h_sol*i for i in range(new_mto.num_samples)]\n",
    "    x_s  = new_mto.prog.GetSolution(new_mto.x[ti])\n",
    "    u_s    = new_mto.prog.GetSolution(new_mto.u[ti])\n",
    "    x_trajectory = PiecewisePolynomial.Cubic(t_s, x_s, False)\n",
    "#     t_samples = np.linspace(breaks[0], breaks[-1], 100) \n",
    "#     x_samples = np.hstack([x_trajectory.value(t) for t in t_samples])\n",
    "    thetas, theta_dots = zip(*x_s)\n",
    "    print(thetas, theta_dots, u_s)\n",
    "    xs += thetas\n",
    "    ys += theta_dots\n",
    "    zs += u_s\n",
    "print(list((len(thing) for thing in (xs, ys, zs))))\n",
    "ax.scatter(xs, ys, zs, c='b', marker='o')\n",
    "\n",
    "ax.set_xlabel('X Label')\n",
    "ax.set_ylabel('Y Label')\n",
    "ax.set_zlabel('Z Label')\n",
    "\n",
    "plt.show()"
   ]
  },
  {
   "cell_type": "code",
   "execution_count": null,
   "metadata": {},
   "outputs": [],
   "source": []
  },
  {
   "cell_type": "code",
   "execution_count": null,
   "metadata": {},
   "outputs": [],
   "source": [
    "import math\n",
    "ic_list = initial_conditions_grid(36, (0, math.pi), (-5, 5))\n",
    "new_mto.plot_all_policies(\"state_quiver\", ic_list)"
   ]
  },
  {
   "cell_type": "code",
   "execution_count": null,
   "metadata": {},
   "outputs": [],
   "source": [
    "from nn_system.NNSystemHelper import create_nn\n",
    "kNetConstructor = lambda: FCBIG(2)\n",
    "nn = create_nn(kNetConstructor, list(new_mto.prog.GetSolution(new_mto.T)))\n",
    "list(nn.parameters())"
   ]
  },
  {
   "cell_type": "code",
   "execution_count": null,
   "metadata": {},
   "outputs": [],
   "source": [
    "ti = 0\n",
    "mto.render_policy(ti)"
   ]
  },
  {
   "cell_type": "code",
   "execution_count": null,
   "metadata": {},
   "outputs": [],
   "source": [
    "mto.plot_all_trajectories(\"state_scatter\")\n",
    "# mto.plot_all_trajectories(\"state_quiver\")\n",
    "# mto.plot_all_trajectories(\"tip_scatter\")\n",
    "# mto.plot_all_trajectories(\"tip_quiver\")"
   ]
  },
  {
   "cell_type": "markdown",
   "metadata": {},
   "source": [
    "### Visualize the found trajectories"
   ]
  },
  {
   "cell_type": "code",
   "execution_count": null,
   "metadata": {},
   "outputs": [],
   "source": [
    "ti = 0\n",
    "mto.plot_single_trajectory(ti, \"state_scatter\")\n",
    "mto.plot_single_trajectory(ti, \"state_quiver\")\n",
    "mto.plot_single_trajectory(ti, \"tip_scatter\")\n",
    "mto.plot_single_trajectory(ti, \"tip_quiver\")\n",
    "\n",
    "mto.render_single_trajectory(ti)"
   ]
  },
  {
   "cell_type": "code",
   "execution_count": null,
   "metadata": {},
   "outputs": [],
   "source": []
  }
 ],
 "metadata": {
  "kernelspec": {
   "display_name": "Python 2",
   "language": "python",
   "name": "python2"
  },
  "language_info": {
   "codemirror_mode": {
    "name": "ipython",
    "version": 2
   },
   "file_extension": ".py",
   "mimetype": "text/x-python",
   "name": "python",
   "nbconvert_exporter": "python",
   "pygments_lexer": "ipython2",
   "version": "2.7.12"
  }
 },
 "nbformat": 4,
 "nbformat_minor": 2
}
