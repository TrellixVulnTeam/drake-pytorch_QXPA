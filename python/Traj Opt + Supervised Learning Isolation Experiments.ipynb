{
 "cells": [
  {
   "cell_type": "code",
   "execution_count": null,
   "metadata": {},
   "outputs": [],
   "source": [
    "%matplotlib inline\n",
    "from __future__ import print_function, absolute_import"
   ]
  },
  {
   "cell_type": "markdown",
   "metadata": {},
   "source": [
    "### 1) No-op"
   ]
  },
  {
   "cell_type": "markdown",
   "metadata": {},
   "source": [
    "Step 1) Vanilla dircol traj. optimization."
   ]
  },
  {
   "cell_type": "code",
   "execution_count": 5,
   "metadata": {},
   "outputs": [],
   "source": [
    "from dircol import make_real_dircol_mp\n",
    "\n",
    "dircol, tree = make_real_dircol_mp(expmt=\"cartpole\", seed=1776)\n",
    "\n",
    "R = 10  # Cost on input \"effort\".\n",
    "u = dircol.input()\n",
    "dircol.AddRunningCost(R*u[0]**2)"
   ]
  },
  {
   "cell_type": "markdown",
   "metadata": {},
   "source": [
    "Step 2) Simple supervised learning on (x, u) pairs, with no constraints on policy."
   ]
  },
  {
   "cell_type": "code",
   "execution_count": null,
   "metadata": {},
   "outputs": [],
   "source": []
  },
  {
   "cell_type": "markdown",
   "metadata": {},
   "source": [
    "### 2) GPS"
   ]
  },
  {
   "cell_type": "markdown",
   "metadata": {},
   "source": [
    "Step 1) dircol traj. optimization using Augmented Lagrangian"
   ]
  },
  {
   "cell_type": "code",
   "execution_count": null,
   "metadata": {},
   "outputs": [],
   "source": [
    "def cost():\n",
    "    pass\n",
    "def Pi():\n",
    "    pass\n",
    "def lagrangian_t(x, u, theta, lam, rho=1): # TODO: figure out rho...\n",
    "    global cost\n",
    "    global Pi\n",
    "    a = cost(x, u)                # Additive cost\n",
    "    b = lam[t]*(Pi(x[t])-u[t])    # Model L1 penalty?\n",
    "    c = rho[t]*(Pi(x[t])-u[t])**2 # Model L2 penalty?\n",
    "    return a+b+c"
   ]
  },
  {
   "cell_type": "code",
   "execution_count": 8,
   "metadata": {},
   "outputs": [
    {
     "ename": "ImportError",
     "evalue": "No module named NNSystemHelper",
     "output_type": "error",
     "traceback": [
      "\u001b[0;31m---------------------------------------------------------------------------\u001b[0m",
      "\u001b[0;31mImportError\u001b[0m                               Traceback (most recent call last)",
      "\u001b[0;32m<ipython-input-8-e7dd7b7ea7cb>\u001b[0m in \u001b[0;36m<module>\u001b[0;34m()\u001b[0m\n\u001b[1;32m      7\u001b[0m \u001b[0mdircol\u001b[0m\u001b[0;34m.\u001b[0m\u001b[0mAddRunningCost\u001b[0m\u001b[0;34m(\u001b[0m\u001b[0mR\u001b[0m\u001b[0;34m*\u001b[0m\u001b[0mu\u001b[0m\u001b[0;34m[\u001b[0m\u001b[0;36m0\u001b[0m\u001b[0;34m]\u001b[0m\u001b[0;34m**\u001b[0m\u001b[0;36m2\u001b[0m\u001b[0;34m)\u001b[0m\u001b[0;34m\u001b[0m\u001b[0m\n\u001b[1;32m      8\u001b[0m \u001b[0;34m\u001b[0m\u001b[0m\n\u001b[0;32m----> 9\u001b[0;31m \u001b[0;32mfrom\u001b[0m \u001b[0mNNSystemHelper\u001b[0m \u001b[0;32mimport\u001b[0m \u001b[0mFC\u001b[0m\u001b[0;34m,\u001b[0m \u001b[0mMLP\u001b[0m\u001b[0;34m,\u001b[0m \u001b[0mNNInferenceHelper\u001b[0m\u001b[0;34m\u001b[0m\u001b[0m\n\u001b[0m\u001b[1;32m     10\u001b[0m \u001b[0;31m# net = FC().double()\u001b[0m\u001b[0;34m\u001b[0m\u001b[0;34m\u001b[0m\u001b[0m\n\u001b[1;32m     11\u001b[0m \u001b[0mnet\u001b[0m \u001b[0;34m=\u001b[0m \u001b[0mMLP\u001b[0m\u001b[0;34m(\u001b[0m\u001b[0;34m)\u001b[0m\u001b[0;34m.\u001b[0m\u001b[0mdouble\u001b[0m\u001b[0;34m(\u001b[0m\u001b[0;34m)\u001b[0m\u001b[0;34m\u001b[0m\u001b[0m\n",
      "\u001b[0;31mImportError\u001b[0m: No module named NNSystemHelper"
     ]
    }
   ],
   "source": [
    "from dircol import make_real_dircol_mp\n",
    "\n",
    "dircol, tree = make_real_dircol_mp(expmt=\"cartpole\", seed=1776)\n",
    "\n",
    "R = 10  # Cost on input \"effort\".\n",
    "u = dircol.input()\n",
    "dircol.AddRunningCost(R*u[0]**2)\n",
    "\n",
    "from NNSystemHelper import FC, MLP, NNInferenceHelper\n",
    "# net = FC().double()\n",
    "net = MLP().double()\n",
    "def autodiffable_function_simple(x):\n",
    "    return (x[0]-2.)*(x[1]-2.)\n",
    "def autodiffable_function_nn(drake_in):\n",
    "    global net\n",
    "    in_list = list(drake_in)\n",
    "    out_list = NNInferenceHelper(net, in_list)\n",
    "    return out_list[0]\n",
    "\n",
    "# Add on an autodiffable function that can query a torch model!\n",
    "def autodiffable_function_nn_real(state_concat_inp):\n",
    "    # Unpack variables\n",
    "    x_sz = len(prog.state(0))\n",
    "    u_sz = len(prog.input(0))\n",
    "    assert len(state_concat_inp) == x_sz + u_sz\n",
    "    x = state_concat_inp[:x_sz]\n",
    "    u = state_concat_inp[-u_sz:]\n",
    "    \n",
    "    # Should we use an NN? or not.\n",
    "    ad_fn = autodiffable_function_simple\n",
    "#     ad_fn = autodiffable_function_nn\n",
    "    \n",
    "    lam, rho = 1, 1 # For now, set the dual variables to constants\n",
    "    cost = lam * (ad_fn(x) - u) \\\n",
    "        + rho * (ad_fn(x) - u).dot(ad_fn(x) - u)\n",
    "    return cost[0]\n",
    "\n",
    "# prog.AddCost(autodiffable_function_nn_real, np.hstack((prog.state(0), prog.input(0)))) # For debugging\n",
    "# Looking to add cost of form 𝜆_𝑡(𝜋_𝜃(𝑥_𝑡) − 𝑢_𝑡) + 𝜌_𝑡(𝜋_𝜃(𝑥_𝑡) − 𝑢_𝑡)^2\n",
    "for t in range(kNumTimeSteps):\n",
    "    prog.AddCost(autodiffable_function_nn_real, np.hstack((prog.state(t), prog.input(t))))\n",
    "    pass"
   ]
  },
  {
   "cell_type": "markdown",
   "metadata": {},
   "source": [
    "Step 2) Supervised learning on (x, u) pairs, using Augmented Lagrangian"
   ]
  },
  {
   "cell_type": "code",
   "execution_count": null,
   "metadata": {},
   "outputs": [],
   "source": []
  },
  {
   "cell_type": "markdown",
   "metadata": {},
   "source": [
    "### 3) Interactive Control"
   ]
  },
  {
   "cell_type": "markdown",
   "metadata": {},
   "source": [
    "Step 1) dircol traj. optimization with L2 augmentation and L2 trajectory distance penalty."
   ]
  },
  {
   "cell_type": "code",
   "execution_count": 7,
   "metadata": {},
   "outputs": [],
   "source": [
    "from dircol import make_real_dircol_mp\n",
    "\n",
    "dircol, tree = make_real_dircol_mp(expmt=\"cartpole\", seed=1776)\n",
    "\n",
    "R = 10  # Cost on input \"effort\".\n",
    "u = dircol.input()\n",
    "dircol.AddRunningCost(R*u[0]**2)"
   ]
  },
  {
   "cell_type": "markdown",
   "metadata": {},
   "source": [
    "Step 2) Simple supervised learning on (x, u) pairs, with L2 augmentation and L2 policy distance penalty."
   ]
  },
  {
   "cell_type": "code",
   "execution_count": null,
   "metadata": {},
   "outputs": [],
   "source": []
  }
 ],
 "metadata": {
  "kernelspec": {
   "display_name": "Python 2",
   "language": "python",
   "name": "python2"
  },
  "language_info": {
   "codemirror_mode": {
    "name": "ipython",
    "version": 2
   },
   "file_extension": ".py",
   "mimetype": "text/x-python",
   "name": "python",
   "nbconvert_exporter": "python",
   "pygments_lexer": "ipython2",
   "version": "2.7.12"
  }
 },
 "nbformat": 4,
 "nbformat_minor": 2
}
