{
 "cells": [
  {
   "cell_type": "code",
   "execution_count": 35,
   "metadata": {},
   "outputs": [],
   "source": [
    "%matplotlib inline\n",
    "%load_ext autoreload\n",
    "%autoreload 2"
   ]
  },
  {
   "cell_type": "code",
   "execution_count": 17,
   "metadata": {},
   "outputs": [],
   "source": [
    "from __future__ import print_function, absolute_import\n",
    "\n",
    "import matplotlib.pyplot as plt"
   ]
  },
  {
   "cell_type": "markdown",
   "metadata": {},
   "source": [
    "### 1) No-op"
   ]
  },
  {
   "cell_type": "markdown",
   "metadata": {},
   "source": [
    "Step 1) Vanilla dircol traj. optimization."
   ]
  },
  {
   "cell_type": "code",
   "execution_count": 70,
   "metadata": {},
   "outputs": [],
   "source": [
    "from traj.dircol import make_real_dircol_mp\n",
    "\n",
    "prog, tree = make_real_dircol_mp(expmt=\"cartpole\", seed=1776)\n",
    "\n",
    "R = 10  # Cost on input \"effort\".\n",
    "u = prog.input()\n",
    "prog.AddRunningCost(R*u[0]**2)"
   ]
  },
  {
   "cell_type": "code",
   "execution_count": 111,
   "metadata": {},
   "outputs": [
    {
     "name": "stdout",
     "output_type": "stream",
     "text": [
      "(100, 4) (100, 1)\n"
     ]
    }
   ],
   "source": [
    "############################################################\n",
    "# Run this cell to generate some sample trajectories \n",
    "# for the supervised learning steps below.\n",
    "############################################################\n",
    "ret = prog.Solve()\n",
    "\n",
    "x_trajectory = prog.ReconstructStateTrajectory()\n",
    "u_trajectory = prog.ReconstructInputTrajectory()\n",
    "breaks = np.linspace(x_trajectory.start_time(),x_trajectory.end_time(),100)\n",
    "# x_knots = np.hstack([x_trajectory.value(t) for t in breaks])\n",
    "# u_knots = np.hstack([u_trajectory.value(t) for t in breaks])\n",
    "x_knots = np.array([x_trajectory.value(t).T[0] for t in breaks])\n",
    "u_knots = np.array([u_trajectory.value(t).T[0] for t in breaks])\n",
    "print(x_knots.shape, u_knots.shape)\n",
    "# assert len(x_knots) == len(u_knots)\n",
    "\n",
    "# plt.plot(breaks, x_knots[0,:], breaks, x_knots[1,:])"
   ]
  },
  {
   "cell_type": "code",
   "execution_count": 159,
   "metadata": {},
   "outputs": [
    {
     "name": "stdout",
     "output_type": "stream",
     "text": [
      "(100, 4) (100, 1)\n"
     ]
    }
   ],
   "source": [
    "# print(x_knots[0].shape)\n",
    "# print(x_trajectory.value(0).shape)\n",
    "def lin_gen(batch_sz):\n",
    "    global x_knots\n",
    "    global u_knots\n",
    "    n = x_knots.shape[0]\n",
    "    batch_idxs = np.arange(0, (n)-(n%batch_sz), batch_sz).astype(np.int32)\n",
    "#     print(\"batch_idxs: \", batch_idxs)\n",
    "    for batch_idx in batch_idxs:\n",
    "        x_data = x_knots[batch_idx:batch_idx+batch_sz,:]\n",
    "        u_data = u_knots[batch_idx:batch_idx+batch_sz,:]\n",
    "        yield x_data, u_data\n",
    "        \n",
    "# Selects batch_sz random samples, drawn WITH replacement\n",
    "def rand_gen(batch_sz):\n",
    "    global x_knots\n",
    "    global u_knots\n",
    "    n = x_knots.shape[0]\n",
    "    idxs = np.random.randint(n, size=batch_sz)\n",
    "#     print(\"idxs: \", idxs)\n",
    "#     print(x_knots[idxs].shape, u_knots[idxs].shape)\n",
    "    yield x_knots[idxs], u_knots[idxs]\n",
    "        \n",
    "for x_data, u_data in rand_gen(100):\n",
    "    print(x_data.shape, u_data.shape)"
   ]
  },
  {
   "cell_type": "markdown",
   "metadata": {},
   "source": [
    "Step 2) Simple supervised learning on (x, u) pairs, with no constraints on policy."
   ]
  },
  {
   "cell_type": "code",
   "execution_count": null,
   "metadata": {},
   "outputs": [],
   "source": [
    "# SUPER OVERFITTING\n",
    "import torch\n",
    "\n",
    "# Define net\n",
    "from nn_system.NNSystemHelper import FC, MLP\n",
    "# net = FC(4)\n",
    "net = MLP(4)\n",
    "\n",
    "\n",
    "# Define loss and optimizer\n",
    "import torch.nn as nn\n",
    "import torch.optim as optim\n",
    "criterion = nn.MSELoss()\n",
    "optimizer = optim.SGD(net.parameters(), lr=1e-2, momentum=0.3)\n",
    "\n",
    "\n",
    "# Define training loop\n",
    "for epoch in range(100):  # loop over the dataset multiple times\n",
    "\n",
    "    running_loss = 0.0\n",
    "    for i, data in enumerate(my_gen(100), 0):\n",
    "#     for i, data in enumerate(rand_gen(20), 0):\n",
    "        # get the inputs\n",
    "        inputs, labels = data\n",
    "        inputs = torch.tensor(inputs)\n",
    "        labels = torch.tensor(labels)\n",
    "\n",
    "        # zero the parameter gradients\n",
    "        optimizer.zero_grad()\n",
    "\n",
    "        # forward + backward + optimize\n",
    "        outputs = net(inputs)\n",
    "        loss = criterion(outputs, labels)\n",
    "        loss.backward()\n",
    "        optimizer.step()\n",
    "\n",
    "        # print statistics\n",
    "        running_loss += loss.item()\n",
    "        if (i+1) % 1 == 0:\n",
    "            print('[%d, %5d] loss: %.3f' %\n",
    "                  (epoch + 1, i + 1, running_loss / 2000))\n",
    "            running_loss = 0.0\n",
    "\n",
    "print('Finished Training')"
   ]
  },
  {
   "cell_type": "markdown",
   "metadata": {},
   "source": [
    "### 2) GPS"
   ]
  },
  {
   "cell_type": "markdown",
   "metadata": {},
   "source": [
    "Step 1) dircol traj. optimization using Augmented Lagrangian"
   ]
  },
  {
   "cell_type": "code",
   "execution_count": 65,
   "metadata": {},
   "outputs": [],
   "source": [
    "import numpy as np\n",
    "\n",
    "from nn_system.NNSystemHelper import FC, MLP\n",
    "\n",
    "from traj.dircol import (\n",
    "    add_running_custom_cost_fn,\n",
    "    make_pytorch_net_autodiffable,\n",
    "    make_real_dircol_mp,\n",
    ")\n",
    "\n",
    "\n",
    "prog, tree = make_real_dircol_mp(expmt=\"cartpole\", seed=1776)\n",
    "\n",
    "R = 10  # Cost on input \"effort\".\n",
    "u = prog.input()\n",
    "prog.AddRunningCost(R*u[0]**2)\n",
    "\n",
    "# Make an auto-differentiable pytorch net function\n",
    "# net = None\n",
    "# net = FC(4).double()\n",
    "net = MLP(4).double()\n",
    "Pi = make_pytorch_net_autodiffable(net)\n",
    "lam_t, rho_t = 1, 1 # TODO: use actual lam and rho variables.\n",
    "\n",
    "def lagrangian(x_t, u_t, t):\n",
    "    cost = lam_t * (Pi(x_t) - u_t) \\\n",
    "         + rho_t * (Pi(x_t) - u_t).dot(Pi(x_t) - u_t)\n",
    "    return cost\n",
    "\n",
    "add_running_custom_cost_fn(prog, lagrangian)"
   ]
  },
  {
   "cell_type": "markdown",
   "metadata": {},
   "source": [
    "Step 2) Supervised learning on (x, u) pairs, using Augmented Lagrangian"
   ]
  },
  {
   "cell_type": "code",
   "execution_count": null,
   "metadata": {},
   "outputs": [],
   "source": [
    "# SUPER OVERFITTING + Extra L1-sh + L2 terms... weird...\n",
    "import torch\n",
    "\n",
    "# Define net\n",
    "from nn_system.NNSystemHelper import FC, MLP\n",
    "# net = FC(4)\n",
    "net = MLP(4)\n",
    "\n",
    "\n",
    "# Define loss and optimizer\n",
    "import torch.nn as nn\n",
    "import torch.optim as optim\n",
    "criterion = nn.MSELoss()\n",
    "optimizer = optim.SGD(net.parameters(), lr=1e-2, momentum=0.3)\n",
    "\n",
    "\n",
    "# Define training loop\n",
    "# TODO: Use actual dual variables here\n",
    "# TODO: also need to make sure I have individual lam and rho's!!!!\n",
    "lam, rho = 1, 1\n",
    "for epoch in range(100):  # loop over the dataset multiple times\n",
    "\n",
    "    running_loss = 0.0\n",
    "    for i, data in enumerate(my_gen(100), 0):\n",
    "#     for i, data in enumerate(rand_gen(20), 0):\n",
    "        # get the inputs\n",
    "        inputs, labels = data\n",
    "        inputs = torch.tensor(inputs)\n",
    "        labels = torch.tensor(labels)\n",
    "\n",
    "        # zero the parameter gradients\n",
    "        optimizer.zero_grad()\n",
    "\n",
    "        # forward + backward + optimize\n",
    "        outputs = net(inputs)\n",
    "        \n",
    "        # TODO: Figure out if they want ME or MAE.\n",
    "#         loss = lam*nn.L1Loss()(outputs, labels) + rho*nn.MSELoss()(outputs, labels)\n",
    "        loss = lam*sum(outputs - labels)/len(outputs) + rho*nn.MSELoss()(outputs, labels)\n",
    "        loss.backward()\n",
    "        optimizer.step()\n",
    "\n",
    "        # print statistics\n",
    "        running_loss += loss.item()\n",
    "        if (i+1) % 1 == 0:\n",
    "            print('[%d, %5d] loss: %.3f' %\n",
    "                  (epoch + 1, i + 1, running_loss / 2000))\n",
    "            running_loss = 0.0\n",
    "\n",
    "print('Finished Training')"
   ]
  },
  {
   "cell_type": "markdown",
   "metadata": {},
   "source": [
    "### 3) Interactive Control"
   ]
  },
  {
   "cell_type": "markdown",
   "metadata": {},
   "source": [
    "Step 1) dircol traj. optimization with L2 augmentation and L2 trajectory distance penalty."
   ]
  },
  {
   "cell_type": "code",
   "execution_count": 206,
   "metadata": {},
   "outputs": [],
   "source": [
    "import numpy as np\n",
    "\n",
    "from nn_system.NNSystemHelper import FC, MLP\n",
    "\n",
    "from traj.dircol import (\n",
    "    add_running_custom_cost_fn,\n",
    "    make_pytorch_net_autodiffable,\n",
    "    make_real_dircol_mp,\n",
    ")\n",
    "\n",
    "\n",
    "prog, tree = make_real_dircol_mp(expmt=\"cartpole\", seed=1776)\n",
    "\n",
    "R = 10  # Cost on input \"effort\".\n",
    "u = prog.input()\n",
    "prog.AddRunningCost(R*u[0]**2)\n",
    "\n",
    "# Make an auto-differentiable pytorch net function\n",
    "# net = None\n",
    "# net = FC(4).double()\n",
    "net = MLP(4).double()\n",
    "Pi = make_pytorch_net_autodiffable(net)\n",
    "alpha, gamma = 1., 1. # TODO: use actual variables, here.\n",
    "x_ref = [0]*21 # TODO\n",
    "def mycost(x_t, u_t, timestep):\n",
    "    cost = (alpha/2 * (Pi(x_t) - u_t).dot(Pi(x_t) - u_t) \n",
    "         + gamma/2 * (x_t - x_ref[timestep]).dot(x_t - x_ref[timestep]),)\n",
    "    return cost\n",
    "\n",
    "add_running_custom_cost_fn(prog, mycost)"
   ]
  },
  {
   "cell_type": "markdown",
   "metadata": {},
   "source": [
    "Step 2) Simple supervised learning on (x, u) pairs, with L2 augmentation and L2 policy distance penalty."
   ]
  },
  {
   "cell_type": "code",
   "execution_count": null,
   "metadata": {},
   "outputs": [],
   "source": [
    "# SUPER OVERFITTING + L2 + parameter distance metric!\n",
    "import torch\n",
    "\n",
    "# Define net\n",
    "from nn_system.NNSystemHelper import FC, MLP\n",
    "# net = FC(4)\n",
    "net = MLP(4)\n",
    "\n",
    "\n",
    "# Define loss and optimizer\n",
    "import torch.nn as nn\n",
    "import torch.optim as optim\n",
    "criterion = nn.MSELoss()\n",
    "optimizer = optim.SGD(net.parameters(), lr=1e-2, momentum=0.3)\n",
    "\n",
    "frozen_parameters = [param.clone() for param in net.parameters()]\n",
    "\n",
    "# Define training loop\n",
    "# TODO: Use actual dual variables here\n",
    "# TODO: also need to make sure I have individual lam and rho's!!!!\n",
    "alpha, gamma = 1., 1.\n",
    "for epoch in range(100):  # loop over the dataset multiple times\n",
    "\n",
    "    running_loss = 0.0\n",
    "    for i, data in enumerate(my_gen(100), 0):\n",
    "#     for i, data in enumerate(rand_gen(20), 0):\n",
    "        # get the inputs\n",
    "        inputs, labels = data\n",
    "        inputs = torch.tensor(inputs)\n",
    "        labels = torch.tensor(labels)\n",
    "\n",
    "        # zero the parameter gradients\n",
    "        optimizer.zero_grad()\n",
    "\n",
    "        # forward + backward + optimize\n",
    "        outputs = net(inputs)\n",
    "        \n",
    "        # TODO: Figure out if they want ME or MAE.\n",
    "        loss = alpha/2 * nn.MSELoss()(outputs, labels)\n",
    "        for real, frozen in zip(list(net.parameters()), frozen_parameters):\n",
    "            loss += gamma/2 * nn.MSELoss()(real, frozen)\n",
    "        loss.backward()\n",
    "        optimizer.step()\n",
    "\n",
    "        # print statistics\n",
    "        running_loss += loss.item()\n",
    "        if (i+1) % 1 == 0:\n",
    "            print('[%d, %5d] loss: %.3f' %\n",
    "                  (epoch + 1, i + 1, running_loss / 2000))\n",
    "            running_loss = 0.0\n",
    "\n",
    "print('Finished Training')"
   ]
  },
  {
   "cell_type": "code",
   "execution_count": null,
   "metadata": {},
   "outputs": [],
   "source": [
    "frozen_parameters = [param.clone() for param in net.parameters()]\n",
    "\n",
    "# ref = list(net.parameters())\n",
    "# ref[0][0] = 2012\n",
    "\n",
    "# print(frozen_parameters[0][0])\n",
    "frozen_parameters[1]"
   ]
  },
  {
   "cell_type": "code",
   "execution_count": null,
   "metadata": {},
   "outputs": [],
   "source": []
  },
  {
   "cell_type": "code",
   "execution_count": 207,
   "metadata": {},
   "outputs": [
    {
     "data": {
      "text/plain": [
       "[<matplotlib.lines.Line2D at 0x7f1195576790>,\n",
       " <matplotlib.lines.Line2D at 0x7f1195576850>]"
      ]
     },
     "execution_count": 207,
     "metadata": {},
     "output_type": "execute_result"
    },
    {
     "data": {
      "image/png": "[encoded data removed]",
      "text/plain": [
       "<Figure size 432x288 with 1 Axes>"
      ]
     },
     "metadata": {
      "needs_background": "light"
     },
     "output_type": "display_data"
    }
   ],
   "source": [
    "############################################################\n",
    "# Run this cell to run the code!\n",
    "############################################################\n",
    "\n",
    "ret = prog.Solve()\n",
    "\n",
    "x_trajectory = prog.ReconstructStateTrajectory()\n",
    "breaks = np.linspace(x_trajectory.start_time(),x_trajectory.end_time(),100)\n",
    "x_knots = np.hstack([x_trajectory.value(t) for t in breaks])\n",
    "\n",
    "plt.plot(breaks, x_knots[0,:], breaks, x_knots[1,:])"
   ]
  },
  {
   "cell_type": "code",
   "execution_count": null,
   "metadata": {},
   "outputs": [],
   "source": []
  }
 ],
 "metadata": {
  "kernelspec": {
   "display_name": "Python 2",
   "language": "python",
   "name": "python2"
  },
  "language_info": {
   "codemirror_mode": {
    "name": "ipython",
    "version": 2
   },
   "file_extension": ".py",
   "mimetype": "text/x-python",
   "name": "python",
   "nbconvert_exporter": "python",
   "pygments_lexer": "ipython2",
   "version": "2.7.12"
  }
 },
 "nbformat": 4,
 "nbformat_minor": 2
}
