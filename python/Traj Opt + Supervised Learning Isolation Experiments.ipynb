{
 "cells": [
  {
   "cell_type": "code",
   "execution_count": 35,
   "metadata": {},
   "outputs": [],
   "source": [
    "%matplotlib inline\n",
    "%load_ext autoreload\n",
    "%autoreload 2"
   ]
  },
  {
   "cell_type": "code",
   "execution_count": 17,
   "metadata": {},
   "outputs": [],
   "source": [
    "from __future__ import print_function, absolute_import\n",
    "\n",
    "import matplotlib.pyplot as plt"
   ]
  },
  {
   "cell_type": "markdown",
   "metadata": {},
   "source": [
    "### 1) No-op"
   ]
  },
  {
   "cell_type": "markdown",
   "metadata": {},
   "source": [
    "Step 1) Vanilla dircol traj. optimization."
   ]
  },
  {
   "cell_type": "code",
   "execution_count": 3,
   "metadata": {},
   "outputs": [],
   "source": [
    "from traj.dircol import make_real_dircol_mp\n",
    "\n",
    "dircol, tree = make_real_dircol_mp(expmt=\"cartpole\", seed=1776)\n",
    "\n",
    "R = 10  # Cost on input \"effort\".\n",
    "u = dircol.input()\n",
    "dircol.AddRunningCost(R*u[0]**2)"
   ]
  },
  {
   "cell_type": "markdown",
   "metadata": {},
   "source": [
    "Step 2) Simple supervised learning on (x, u) pairs, with no constraints on policy."
   ]
  },
  {
   "cell_type": "code",
   "execution_count": null,
   "metadata": {},
   "outputs": [],
   "source": []
  },
  {
   "cell_type": "markdown",
   "metadata": {},
   "source": [
    "### 2) GPS"
   ]
  },
  {
   "cell_type": "markdown",
   "metadata": {},
   "source": [
    "Step 1) dircol traj. optimization using Augmented Lagrangian"
   ]
  },
  {
   "cell_type": "code",
   "execution_count": null,
   "metadata": {},
   "outputs": [],
   "source": [
    "def cost():\n",
    "    pass\n",
    "def Pi():\n",
    "    pass\n",
    "def lagrangian_t(x, u, theta, lam, rho=1): # TODO: figure out rho...\n",
    "    global cost\n",
    "    global Pi\n",
    "    a = cost(x, u)       # Additive cost\n",
    "    b = lam*(Pi(x)-u)    # Model L1 penalty?\n",
    "    c = rho*(Pi(x)-u)**2 # Model L2 penalty?\n",
    "    return a+b+c"
   ]
  },
  {
   "cell_type": "code",
   "execution_count": 47,
   "metadata": {},
   "outputs": [],
   "source": [
    "import numpy as np\n",
    "\n",
    "from traj.dircol import (\n",
    "    apply_running_policy_cost,\n",
    "    make_real_dircol_mp,\n",
    ")\n",
    "\n",
    "prog, tree = make_real_dircol_mp(expmt=\"cartpole\", seed=1776)\n",
    "\n",
    "R = 10  # Cost on input \"effort\".\n",
    "u = prog.input()\n",
    "prog.AddRunningCost(R*u[0]**2)\n",
    "\n",
    "# Should we use an NN? or not.\n",
    "def Pi_trivial(x_t):\n",
    "    return (x_t[0]-2.)*(x_t[1]-2.)\n",
    "def Pi_nn(x_t):\n",
    "    from nn_system.NNSystemHelper import FC, MLP, NNInferenceHelper\n",
    "    # net = FC(4).double()\n",
    "    net = MLP(4).double()\n",
    "\n",
    "    in_list = list(x_t)\n",
    "    out_list = NNInferenceHelper(net, in_list)\n",
    "    return out_list[0]\n",
    "\n",
    "# Pi = Pi_trivial\n",
    "Pi = Pi_nn\n",
    "\n",
    "def mycost(Pi, x_t, u_t):\n",
    "    lam, rho = 1, 1 # For now, set the dual variables to constants\n",
    "    cost = lam * (Pi(x_t) - u_t) \\\n",
    "        + rho * (Pi(x_t) - u_t).dot(Pi(x_t) - u_t)\n",
    "    return cost\n",
    "\n",
    "apply_running_policy_cost(prog, Pi, mycost)"
   ]
  },
  {
   "cell_type": "markdown",
   "metadata": {},
   "source": [
    "Step 2) Supervised learning on (x, u) pairs, using Augmented Lagrangian"
   ]
  },
  {
   "cell_type": "code",
   "execution_count": null,
   "metadata": {},
   "outputs": [],
   "source": []
  },
  {
   "cell_type": "markdown",
   "metadata": {},
   "source": [
    "### 3) Interactive Control"
   ]
  },
  {
   "cell_type": "markdown",
   "metadata": {},
   "source": [
    "Step 1) dircol traj. optimization with L2 augmentation and L2 trajectory distance penalty."
   ]
  },
  {
   "cell_type": "code",
   "execution_count": 30,
   "metadata": {},
   "outputs": [],
   "source": [
    "from traj.dircol import make_real_dircol_mp\n",
    "\n",
    "dircol, tree = make_real_dircol_mp(expmt=\"cartpole\", seed=1776)\n",
    "\n",
    "R = 10  # Cost on input \"effort\".\n",
    "u = dircol.input()\n",
    "dircol.AddRunningCost(R*u[0]**2)"
   ]
  },
  {
   "cell_type": "markdown",
   "metadata": {},
   "source": [
    "Step 2) Simple supervised learning on (x, u) pairs, with L2 augmentation and L2 policy distance penalty."
   ]
  },
  {
   "cell_type": "code",
   "execution_count": null,
   "metadata": {},
   "outputs": [],
   "source": []
  },
  {
   "cell_type": "code",
   "execution_count": null,
   "metadata": {},
   "outputs": [],
   "source": [
    "############################################################\n",
    "# Run this cell to run the code!\n",
    "############################################################\n",
    "\n",
    "ret = prog.Solve()\n",
    "\n",
    "x_trajectory = prog.ReconstructStateTrajectory()\n",
    "breaks = np.linspace(x_trajectory.start_time(),x_trajectory.end_time(),100)\n",
    "x_knots = np.hstack([x_trajectory.value(t) for t in breaks])\n",
    "\n",
    "plt.plot(breaks, x_knots[0,:], breaks, x_knots[1,:])"
   ]
  },
  {
   "cell_type": "code",
   "execution_count": null,
   "metadata": {},
   "outputs": [],
   "source": []
  }
 ],
 "metadata": {
  "kernelspec": {
   "display_name": "Python 2",
   "language": "python",
   "name": "python2"
  },
  "language_info": {
   "codemirror_mode": {
    "name": "ipython",
    "version": 2
   },
   "file_extension": ".py",
   "mimetype": "text/x-python",
   "name": "python",
   "nbconvert_exporter": "python",
   "pygments_lexer": "ipython2",
   "version": "2.7.12"
  }
 },
 "nbformat": 4,
 "nbformat_minor": 2
}
