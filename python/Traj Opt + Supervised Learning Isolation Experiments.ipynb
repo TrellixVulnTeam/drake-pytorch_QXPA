{
 "cells": [
  {
   "cell_type": "code",
   "execution_count": 35,
   "metadata": {},
   "outputs": [],
   "source": [
    "%matplotlib inline\n",
    "%load_ext autoreload\n",
    "%autoreload 2"
   ]
  },
  {
   "cell_type": "code",
   "execution_count": 17,
   "metadata": {},
   "outputs": [],
   "source": [
    "from __future__ import print_function, absolute_import\n",
    "\n",
    "import matplotlib.pyplot as plt"
   ]
  },
  {
   "cell_type": "markdown",
   "metadata": {},
   "source": [
    "### 1) No-op"
   ]
  },
  {
   "cell_type": "markdown",
   "metadata": {},
   "source": [
    "Step 1) Vanilla dircol traj. optimization."
   ]
  },
  {
   "cell_type": "code",
   "execution_count": 3,
   "metadata": {},
   "outputs": [],
   "source": [
    "from traj.dircol import make_real_dircol_mp\n",
    "\n",
    "dircol, tree = make_real_dircol_mp(expmt=\"cartpole\", seed=1776)\n",
    "\n",
    "R = 10  # Cost on input \"effort\".\n",
    "u = dircol.input()\n",
    "dircol.AddRunningCost(R*u[0]**2)"
   ]
  },
  {
   "cell_type": "markdown",
   "metadata": {},
   "source": [
    "Step 2) Simple supervised learning on (x, u) pairs, with no constraints on policy."
   ]
  },
  {
   "cell_type": "code",
   "execution_count": null,
   "metadata": {},
   "outputs": [],
   "source": []
  },
  {
   "cell_type": "markdown",
   "metadata": {},
   "source": [
    "### 2) GPS"
   ]
  },
  {
   "cell_type": "markdown",
   "metadata": {},
   "source": [
    "Step 1) dircol traj. optimization using Augmented Lagrangian"
   ]
  },
  {
   "cell_type": "code",
   "execution_count": 65,
   "metadata": {},
   "outputs": [],
   "source": [
    "import numpy as np\n",
    "\n",
    "from nn_system.NNSystemHelper import FC, MLP\n",
    "\n",
    "from traj.dircol import (\n",
    "    add_running_custom_cost_fn,\n",
    "    make_pytorch_net_autodiffable,\n",
    "    make_real_dircol_mp,\n",
    ")\n",
    "\n",
    "\n",
    "prog, tree = make_real_dircol_mp(expmt=\"cartpole\", seed=1776)\n",
    "\n",
    "R = 10  # Cost on input \"effort\".\n",
    "u = prog.input()\n",
    "prog.AddRunningCost(R*u[0]**2)\n",
    "\n",
    "# Make an auto-differentiable pytorch net function\n",
    "# net = None\n",
    "# net = FC(4).double()\n",
    "net = MLP(4).double()\n",
    "Pi = make_pytorch_net_autodiffable(net)\n",
    "lam_t, rho_t = 1, 1 # TODO: use actual lam and rho variables.\n",
    "\n",
    "def lagrangian(x_t, u_t, t):\n",
    "    cost = lam_t * (Pi(x_t) - u_t) \\\n",
    "         + rho_t * (Pi(x_t) - u_t).dot(Pi(x_t) - u_t)\n",
    "    return cost\n",
    "\n",
    "add_running_custom_cost_fn(prog, lagrangian)"
   ]
  },
  {
   "cell_type": "markdown",
   "metadata": {},
   "source": [
    "Step 2) Supervised learning on (x, u) pairs, using Augmented Lagrangian"
   ]
  },
  {
   "cell_type": "code",
   "execution_count": null,
   "metadata": {},
   "outputs": [],
   "source": []
  },
  {
   "cell_type": "markdown",
   "metadata": {},
   "source": [
    "### 3) Interactive Control"
   ]
  },
  {
   "cell_type": "markdown",
   "metadata": {},
   "source": [
    "Step 1) dircol traj. optimization with L2 augmentation and L2 trajectory distance penalty."
   ]
  },
  {
   "cell_type": "code",
   "execution_count": 30,
   "metadata": {},
   "outputs": [],
   "source": [
    "import numpy as np\n",
    "\n",
    "from nn_system.NNSystemHelper import FC, MLP\n",
    "\n",
    "from traj.dircol import (\n",
    "    add_running_custom_cost_fn,\n",
    "    make_pytorch_net_autodiffable,\n",
    "    make_real_dircol_mp,\n",
    ")\n",
    "\n",
    "\n",
    "prog, tree = make_real_dircol_mp(expmt=\"cartpole\", seed=1776)\n",
    "\n",
    "R = 10  # Cost on input \"effort\".\n",
    "u = prog.input()\n",
    "prog.AddRunningCost(R*u[0]**2)\n",
    "\n",
    "# Make an auto-differentiable pytorch net function\n",
    "# net = None\n",
    "# net = FC(4).double()\n",
    "net = MLP(4).double()\n",
    "Pi = make_pytorch_net_autodiffable(net)\n",
    "alpha, gamma = 1, 1 # TODO: use actual variables, here.\n",
    "x_ref = [0]*21 # TODO\n",
    "def mycost(x_t, u_t, timestep):\n",
    "    cost = alpha/2 * (Pi(x_t) - u_t).dot(Pi(x_t) - u_t)\n",
    "         + gamma/2 * (x_t - x_ref[timestep]).dot(x_t - x_ref[timestep])\n",
    "    return cost\n",
    "\n",
    "add_running_custom_cost_fn(prog, mycost)"
   ]
  },
  {
   "cell_type": "markdown",
   "metadata": {},
   "source": [
    "Step 2) Simple supervised learning on (x, u) pairs, with L2 augmentation and L2 policy distance penalty."
   ]
  },
  {
   "cell_type": "code",
   "execution_count": null,
   "metadata": {},
   "outputs": [],
   "source": []
  },
  {
   "cell_type": "code",
   "execution_count": 66,
   "metadata": {},
   "outputs": [
    {
     "data": {
      "text/plain": [
       "[<matplotlib.lines.Line2D at 0x7f1195936d10>,\n",
       " <matplotlib.lines.Line2D at 0x7f1195936dd0>]"
      ]
     },
     "execution_count": 66,
     "metadata": {},
     "output_type": "execute_result"
    },
    {
     "data": {
      "image/png": "[encoded data removed]",
      "text/plain": [
       "<Figure size 432x288 with 1 Axes>"
      ]
     },
     "metadata": {
      "needs_background": "light"
     },
     "output_type": "display_data"
    }
   ],
   "source": [
    "############################################################\n",
    "# Run this cell to run the code!\n",
    "############################################################\n",
    "\n",
    "ret = prog.Solve()\n",
    "\n",
    "x_trajectory = prog.ReconstructStateTrajectory()\n",
    "breaks = np.linspace(x_trajectory.start_time(),x_trajectory.end_time(),100)\n",
    "x_knots = np.hstack([x_trajectory.value(t) for t in breaks])\n",
    "\n",
    "plt.plot(breaks, x_knots[0,:], breaks, x_knots[1,:])"
   ]
  },
  {
   "cell_type": "code",
   "execution_count": null,
   "metadata": {},
   "outputs": [],
   "source": []
  }
 ],
 "metadata": {
  "kernelspec": {
   "display_name": "Python 2",
   "language": "python",
   "name": "python2"
  },
  "language_info": {
   "codemirror_mode": {
    "name": "ipython",
    "version": 2
   },
   "file_extension": ".py",
   "mimetype": "text/x-python",
   "name": "python",
   "nbconvert_exporter": "python",
   "pygments_lexer": "ipython2",
   "version": "2.7.12"
  }
 },
 "nbformat": 4,
 "nbformat_minor": 2
}
