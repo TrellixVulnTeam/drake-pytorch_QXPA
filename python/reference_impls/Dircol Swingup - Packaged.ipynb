{
 "cells": [
  {
   "cell_type": "code",
   "execution_count": 1,
   "metadata": {},
   "outputs": [],
   "source": [
    "%matplotlib inline\n",
    "%load_ext autoreload\n",
    "%autoreload 2"
   ]
  },
  {
   "cell_type": "code",
   "execution_count": 4,
   "metadata": {},
   "outputs": [
    {
     "name": "stdout",
     "output_type": "stream",
     "text": [
      "140459141346416\n"
     ]
    }
   ],
   "source": [
    "from IPython.display import HTML\n",
    "from __future__ import print_function, absolute_import\n",
    "\n",
    "import matplotlib.pyplot as plt\n",
    "import numpy as np\n",
    "\n",
    "from pydrake.all import (\n",
    "    SolutionResult\n",
    ")\n",
    "from underactuated import (\n",
    "    PlanarRigidBodyVisualizer\n",
    ")\n",
    "import math\n",
    "import numpy as np\n",
    "import random\n",
    "\n",
    "from pydrake.all import (\n",
    "    DirectCollocation, \n",
    "    FloatingBaseType,\n",
    "    PiecewisePolynomial, \n",
    "    RigidBodyTree, \n",
    "    RigidBodyPlant,\n",
    "    SolutionResult\n",
    ")\n",
    "from pydrake.examples.acrobot import AcrobotPlant\n",
    "from underactuated import (\n",
    "    PlanarRigidBodyVisualizer\n",
    ")\n",
    "\n",
    "expmt = \"acrobot\"\n",
    "seed  = 1776\n",
    "\n",
    "# from dircol import make_real_dircol_mp\n",
    "dircol = None\n",
    "def make_real_dircol_mp(expmt=\"cartpole\", seed=1776):\n",
    "    global dircol\n",
    "    # TODO: use the seed in some meaningful way:\n",
    "    # https://github.com/RobotLocomotion/drake/blob/master/systems/stochastic_systems.h\n",
    "\n",
    "    assert expmt in (\"cartpole\", \"acrobot\")\n",
    "    # expmt = \"cartpole\" # State: (x, theta, x_dot, theta_dot) Input: x force\n",
    "    # expmt = \"acrobot\" # State: (theta1, theta2, theta1_dot, theta2_dot) Input: Elbow torque\n",
    "\n",
    "    if expmt == \"cartpole\":\n",
    "        tree = RigidBodyTree(\"/opt/underactuated/src/cartpole/cartpole.urdf\",\n",
    "                             FloatingBaseType.kFixed)\n",
    "        plant = RigidBodyPlant(tree)\n",
    "    else:\n",
    "        tree = RigidBodyTree(\"/opt/underactuated/src/acrobot/acrobot.urdf\",\n",
    "                         FloatingBaseType.kFixed)\n",
    "        plant = AcrobotPlant()\n",
    "\n",
    "    context = plant.CreateDefaultContext()\n",
    "\n",
    "    if expmt == \"cartpole\":\n",
    "        dircol = DirectCollocation(plant, context, num_time_samples=21,\n",
    "                                   minimum_timestep=0.1, maximum_timestep=0.4)\n",
    "    else:\n",
    "        dircol = DirectCollocation(plant, context, num_time_samples=21,\n",
    "                               minimum_timestep=0.05, maximum_timestep=0.2)\n",
    "\n",
    "    dircol.AddEqualTimeIntervalsConstraints()\n",
    "\n",
    "    if expmt == \"acrobot\":\n",
    "        # Add input limits.\n",
    "        torque_limit = 8.0  # N*m.\n",
    "        u = dircol.input()\n",
    "        dircol.AddConstraintToAllKnotPoints(-torque_limit <= u[0])\n",
    "        dircol.AddConstraintToAllKnotPoints(u[0] <= torque_limit)\n",
    "\n",
    "    initial_state = (0., 0., 0., 0.)\n",
    "    dircol.AddBoundingBoxConstraint(initial_state, initial_state,\n",
    "                                    dircol.initial_state())\n",
    "    # More elegant version is blocked on drake #8315:\n",
    "    # dircol.AddLinearConstraint(dircol.initial_state() == initial_state)\n",
    "\n",
    "    if expmt == \"cartpole\":\n",
    "        final_state = (0., math.pi, 0., 0.)\n",
    "    else:\n",
    "        final_state = (math.pi, 0., 0., 0.)\n",
    "    dircol.AddBoundingBoxConstraint(final_state, final_state,\n",
    "                                    dircol.final_state())\n",
    "    # dircol.AddLinearConstraint(dircol.final_state() == final_state)\n",
    "\n",
    "    R = 10  # Cost on input \"effort\".\n",
    "    u = dircol.input()\n",
    "    dircol.AddRunningCost(R*u[0]**2)\n",
    "\n",
    "    # Add a final cost equal to the total duration.\n",
    "    dircol.AddFinalCost(dircol.time())\n",
    "\n",
    "    initial_x_trajectory = \\\n",
    "        PiecewisePolynomial.FirstOrderHold([0., 4.],\n",
    "                                           np.column_stack((initial_state,\n",
    "                                                            final_state)))\n",
    "    dircol.SetInitialTrajectory(PiecewisePolynomial(), initial_x_trajectory)\n",
    "\n",
    "    print(id(dircol))\n",
    "    return dircol\n",
    "\n",
    "dircol = make_real_dircol_mp(expmt=expmt, seed=seed)\n",
    "\n",
    "# Explcitly set the cost function here.\n",
    "# R = 10  # Cost on input \"effort\".\n",
    "# u = dircol.input()\n",
    "# dircol.AddRunningCost(R*u[0]**2)"
   ]
  },
  {
   "cell_type": "code",
   "execution_count": 5,
   "metadata": {
    "scrolled": false
   },
   "outputs": [
    {
     "name": "stdout",
     "output_type": "stream",
     "text": [
      "140459141346416\n",
      "used solver:  SNOPT\n"
     ]
    },
    {
     "data": {
      "text/plain": [
       "<matplotlib.legend.Legend at 0x7fbf36c55bd0>"
      ]
     },
     "execution_count": 5,
     "metadata": {},
     "output_type": "execute_result"
    },
    {
     "data": {
      "image/png": "[encoded data removed]",
      "text/plain": [
       "<Figure size 432x288 with 1 Axes>"
      ]
     },
     "metadata": {
      "needs_background": "light"
     },
     "output_type": "display_data"
    }
   ],
   "source": [
    "plt.figure()\n",
    "plt.title('Tip trajectories')\n",
    "plt.xlabel('x')\n",
    "plt.ylabel('y')\n",
    "\n",
    "vis_cb_counter = 0\n",
    "if expmt == \"cartpole\":\n",
    "    def state_to_tip_coord(state_vec):\n",
    "        # State: (x, theta, x_dot, theta_dot)\n",
    "        x, theta, _, _ = state_vec\n",
    "        pole_length = 0.5 # manually looked this up\n",
    "        return (x-pole_length*np.sin(theta), pole_length-np.cos(theta))\n",
    "else:\n",
    "    def state_to_tip_coord(state_vec):\n",
    "        # State: (theta1, theta2, theta1_dot, theta2_dot)\n",
    "        theta1, theta2, _, _ = state_vec\n",
    "        link1_length = 1\n",
    "        link2_length = 2\n",
    "        return (-link1_length*np.sin(theta1)  -link2_length*np.sin(theta1+theta2), \n",
    "                -link1_length*np.cos(theta1)  -link2_length*np.cos(theta1+theta2))\n",
    "def MyVisualization(sample_times, values):\n",
    "    global vis_cb_counter\n",
    "    global state_to_tip_coord\n",
    "\n",
    "    vis_cb_counter += 1\n",
    "    if vis_cb_counter % 50 != 0:\n",
    "        return\n",
    "    \n",
    "    coords = [state_to_tip_coord(state) for state in values.T]\n",
    "    x, y = zip(*coords)\n",
    "    plt.plot(x, y, '-o', label=vis_cb_counter)\n",
    "\n",
    "print(id(dircol))\n",
    "dircol.AddStateTrajectoryCallback(MyVisualization)\n",
    "\n",
    "result = dircol.Solve()\n",
    "assert(result == SolutionResult.kSolutionFound)\n",
    "print(\"used solver: \", dircol.GetSolverId().name())\n",
    "\n",
    "# plt.show()\n",
    "plt.legend()\n",
    "\n",
    "# x_trajectory = dircol.ReconstructStateTrajectory()"
   ]
  },
  {
   "cell_type": "code",
   "execution_count": null,
   "metadata": {},
   "outputs": [],
   "source": [
    "print(dircol.ReconstructStateTrajectory())"
   ]
  },
  {
   "cell_type": "code",
   "execution_count": null,
   "metadata": {},
   "outputs": [],
   "source": [
    "x_trajectory = dircol.ReconstructStateTrajectory()\n",
    "\n",
    "if expmt == \"cartpole\":\n",
    "    vis = PlanarRigidBodyVisualizer(tree, xlim=[-2.5, 2.5], ylim=[-1, 2.5])\n",
    "else:\n",
    "    print(\"created acrobot vis\")\n",
    "#     print(x_trajectory)\n",
    "    vis = PlanarRigidBodyVisualizer(tree, xlim=[-4., 4.], ylim=[-4., 4.])\n",
    "ani = vis.animate(x_trajectory, repeat=True)\n",
    "\n",
    "# Things added to get visualizations in an ipynb\n",
    "plt.close(vis.fig)\n",
    "HTML(ani.to_html5_video())"
   ]
  },
  {
   "cell_type": "code",
   "execution_count": null,
   "metadata": {},
   "outputs": [],
   "source": [
    "u_trajectory = dircol.ReconstructInputTrajectory()\n",
    "times = np.linspace(u_trajectory.start_time(), u_trajectory.end_time(), 100)\n",
    "u_lookup = np.vectorize(u_trajectory.value)\n",
    "u_values = u_lookup(times)\n",
    "\n",
    "plt.figure()\n",
    "plt.plot(times, u_values)\n",
    "plt.xlabel('time (seconds)')\n",
    "plt.ylabel('force (Newtons)')\n",
    "\n",
    "plt.show()"
   ]
  },
  {
   "cell_type": "code",
   "execution_count": null,
   "metadata": {},
   "outputs": [],
   "source": []
  }
 ],
 "metadata": {
  "kernelspec": {
   "display_name": "Python 2",
   "language": "python",
   "name": "python2"
  },
  "language_info": {
   "codemirror_mode": {
    "name": "ipython",
    "version": 2
   },
   "file_extension": ".py",
   "mimetype": "text/x-python",
   "name": "python",
   "nbconvert_exporter": "python",
   "pygments_lexer": "ipython2",
   "version": "2.7.12"
  }
 },
 "nbformat": 4,
 "nbformat_minor": 2
}
