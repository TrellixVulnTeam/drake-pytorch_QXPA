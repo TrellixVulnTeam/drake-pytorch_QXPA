{
 "cells": [
  {
   "cell_type": "code",
   "execution_count": null,
   "metadata": {},
   "outputs": [],
   "source": [
    "%matplotlib inline\n",
    "from __future__ import print_function, absolute_import\n",
    "\n",
    "import math\n",
    "import numpy as np\n",
    "import matplotlib.pyplot as plt\n",
    "from IPython.display import HTML\n",
    "from mpl_toolkits.mplot3d import Axes3D\n",
    "from matplotlib import cm\n",
    "\n",
    "from pydrake.all import (\n",
    "    DiagramBuilder,\n",
    "    FloatingBaseType,\n",
    "    RigidBodyTree,\n",
    "    RigidBodyPlant,\n",
    "    SignalLogger, \n",
    "    Simulator, \n",
    "    VectorSystem\n",
    ")\n",
    "from pydrake.examples.pendulum import PendulumPlant\n",
    "from pydrake.systems.controllers import (\n",
    "    DynamicProgrammingOptions, FittedValueIteration, PeriodicBoundaryCondition)\n",
    "from visualizer import PendulumVisualizer\n",
    "from pydrake.examples.acrobot import AcrobotPlant\n",
    "\n",
    "\n",
    "\n",
    "tree = RigidBodyTree(\"/opt/underactuated/src/cartpole/cartpole.urdf\",\n",
    "                     FloatingBaseType.kFixed)\n",
    "plant = RigidBodyPlant(tree)\n",
    "\n",
    "simulator = Simulator(plant)\n",
    "options = DynamicProgrammingOptions()\n",
    "\n",
    "# State: (theta1, theta2, theta1_dot, theta2_dot) Input: Elbow torque\n",
    "\n",
    "def min_time_cost(context):\n",
    "    x = context.get_continuous_state_vector().CopyToVector()\n",
    "    x[1] = x[1] - math.pi\n",
    "    if x.dot(x) < .05: # seeks get x to (math.pi, 0., 0., 0.)\n",
    "        return 0.\n",
    "    return 1.\n",
    "\n",
    "\n",
    "def quadratic_regulator_cost(context):\n",
    "    x = context.get_continuous_state_vector().CopyToVector()\n",
    "    x[1] = x[1] - math.pi\n",
    "    u = plant.EvalVectorInput(context, 0).CopyToVector()\n",
    "    return 2*x.dot(x) + u.dot(u)\n",
    "\n",
    "\n",
    "if (False):\n",
    "    cost_function = min_time_cost\n",
    "    input_limit = 8.\n",
    "#     options.convergence_tol = 0.001\n",
    "    options.convergence_tol = 0.003\n",
    "    steps = 7\n",
    "else:\n",
    "    cost_function = quadratic_regulator_cost\n",
    "    input_limit = 8.\n",
    "    options.convergence_tol = 0.1\n",
    "    steps = 5\n",
    "\n",
    "# State: (x, theta, x_dot, theta_dot)\n",
    "xbins = np.linspace(-10., 10., steps)\n",
    "thetabins = np.linspace(0., 2. * math.pi, steps)\n",
    "xdotbins = np.linspace(-10., 10., steps)\n",
    "thetadotbins = np.linspace(-10., 10., steps)\n",
    "state_grid = [set(xbins), set(thetabins), set(xdotbins), set(thetadotbins)]\n",
    "options.periodic_boundary_conditions = [\n",
    "    PeriodicBoundaryCondition(1, 0., 2.*math.pi),\n",
    "]\n",
    "# Input: x force\n",
    "input_grid = [set(np.linspace(-input_limit, input_limit, 9))]\n",
    "timestep = 0.01\n",
    "\n",
    "[Q, Qdot] = np.meshgrid(xbins, thetabins)\n",
    "# [Q, Qdot] = np.meshgrid(qbins, qbins2)\n",
    "# [Q, Qdot] = np.meshgrid(qbins, qbins2, qdotbins, qdotbins2)\n",
    "fig = plt.figure()\n",
    "ax = fig.gca(projection='3d')\n",
    "ax.set_xlabel(\"theta\")\n",
    "ax.set_ylabel(\"thetadot\")\n",
    "\n",
    "fig2 = plt.figure()\n",
    "ax2 = fig2.gca(projection='3d')\n",
    "ax2.set_xlabel(\"q\")\n",
    "ax2.set_ylabel(\"qdot\")\n",
    "\n",
    "\n",
    "# def draw(iteration, mesh, cost_to_go, policy):\n",
    "#     # Drawing is slow, don't draw every frame.\n",
    "#     if iteration % 10 != 0:\n",
    "#         return\n",
    "#     plt.title(\"iteration \" + str(iteration))\n",
    "#     J = np.reshape(cost_to_go, Q.shape)\n",
    "#     surf = ax.plot_surface(Q, Qdot, J, rstride=1, cstride=1,\n",
    "#                            cmap=cm.jet)\n",
    "\n",
    "#     Pi = np.reshape(policy, Q.shape)\n",
    "#     surf2 = ax2.plot_surface(Q, Qdot, Pi, rstride=1, cstride=1, cmap=cm.jet)\n",
    "\n",
    "#     display.display(plt.gcf())\n",
    "#     display.clear_output(wait=True)\n",
    "\n",
    "\n",
    "# options.visualization_callback = draw\n",
    "\n",
    "policy, cost_to_go = FittedValueIteration(simulator, cost_function,\n",
    "                                          state_grid, input_grid,\n",
    "                                          timestep, options)\n",
    "\n",
    "# print(type(cost_to_go), cost_to_go.shape)\n",
    "total_shape = (steps,)*4\n",
    "J = np.reshape(cost_to_go, total_shape)\n",
    "print(J.shape)\n",
    "J = J[:,:,0,0]\n",
    "# J = J[:,0,:,0]\n",
    "surf = ax.plot_surface(Q, Qdot, J, rstride=1, cstride=1,\n",
    "                       cmap=cm.jet)\n",
    "Pi = np.reshape(policy.get_output_values(), total_shape)\n",
    "Pi = Pi[:,:,0,0]\n",
    "# Pi = Pi[:,0,:,0]\n",
    "surf = ax2.plot_surface(Q, Qdot, Pi, rstride=1, cstride=1,\n",
    "                        cmap=cm.jet)\n"
   ]
  },
  {
   "cell_type": "code",
   "execution_count": null,
   "metadata": {},
   "outputs": [],
   "source": [
    "# Animate the resulting policy.\n",
    "builder = DiagramBuilder()\n",
    "pendulum = builder.AddSystem(PendulumPlant())\n",
    "\n",
    "\n",
    "# TODO(russt): add wrap-around logic to barycentric mesh\n",
    "# (so the policy has it, too)\n",
    "class WrapTheta(VectorSystem):\n",
    "    def __init__(self):\n",
    "        VectorSystem.__init__(self, 2, 2)\n",
    "\n",
    "    def _DoCalcVectorOutput(self, context, input, state, output):\n",
    "        output[:] = input\n",
    "        twoPI = 2.*math.pi\n",
    "        output[0] = output[0] - twoPI * math.floor(output[0] / twoPI)\n",
    "\n",
    "\n",
    "wrap = builder.AddSystem(WrapTheta())\n",
    "builder.Connect(pendulum.get_output_port(0), wrap.get_input_port(0))\n",
    "vi_policy = builder.AddSystem(policy)\n",
    "builder.Connect(wrap.get_output_port(0), vi_policy.get_input_port(0))\n",
    "builder.Connect(vi_policy.get_output_port(0), pendulum.get_input_port(0))\n",
    "\n",
    "logger = builder.AddSystem(SignalLogger(2))\n",
    "logger._DeclarePeriodicPublish(0.033333, 0.0)\n",
    "builder.Connect(pendulum.get_output_port(0), logger.get_input_port(0))\n",
    "\n",
    "diagram = builder.Build()\n",
    "simulator = Simulator(diagram)\n",
    "simulator.set_publish_every_time_step(False)\n",
    "\n",
    "state = simulator.get_mutable_context().get_mutable_continuous_state_vector()\n",
    "state.SetFromVector([0.1, 0.0])"
   ]
  },
  {
   "cell_type": "code",
   "execution_count": 9,
   "metadata": {},
   "outputs": [],
   "source": [
    "simulator.StepTo(10.)"
   ]
  },
  {
   "cell_type": "code",
   "execution_count": null,
   "metadata": {},
   "outputs": [],
   "source": [
    "# Visualize the result as a video.\n",
    "vis = PendulumVisualizer()\n",
    "ani = vis.animate(logger, repeat=True)\n",
    "\n",
    "# plt.show()\n",
    "# Things added to get visualizations in an ipynb\n",
    "plt.close(vis.fig)\n",
    "HTML(ani.to_html5_video())"
   ]
  },
  {
   "cell_type": "code",
   "execution_count": 9,
   "metadata": {},
   "outputs": [
    {
     "data": {
      "text/plain": [
       "array([[0., 0., 0., 0., 0.],\n",
       "       [0., 0., 0., 0., 0.],\n",
       "       [0., 0., 0., 0., 0.],\n",
       "       [0., 0., 0., 0., 0.],\n",
       "       [0., 0., 0., 0., 0.]])"
      ]
     },
     "execution_count": 9,
     "metadata": {},
     "output_type": "execute_result"
    }
   ],
   "source": [
    "x = np.zeros((5, 5, 5, 5))\n",
    "x = x[:,:,0,0]\n",
    "x"
   ]
  },
  {
   "cell_type": "code",
   "execution_count": 2,
   "metadata": {},
   "outputs": [
    {
     "data": {
      "text/plain": [
       "(4, 4, 4, 4, 4)"
      ]
     },
     "execution_count": 2,
     "metadata": {},
     "output_type": "execute_result"
    }
   ],
   "source": [
    "(4,)*5"
   ]
  },
  {
   "cell_type": "code",
   "execution_count": null,
   "metadata": {},
   "outputs": [],
   "source": []
  }
 ],
 "metadata": {
  "kernelspec": {
   "display_name": "Python 2",
   "language": "python",
   "name": "python2"
  },
  "language_info": {
   "codemirror_mode": {
    "name": "ipython",
    "version": 2
   },
   "file_extension": ".py",
   "mimetype": "text/x-python",
   "name": "python",
   "nbconvert_exporter": "python",
   "pygments_lexer": "ipython2",
   "version": "2.7.12"
  }
 },
 "nbformat": 4,
 "nbformat_minor": 2
}
