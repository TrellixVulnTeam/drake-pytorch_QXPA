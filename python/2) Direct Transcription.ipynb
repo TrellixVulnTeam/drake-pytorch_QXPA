{
 "cells": [
  {
   "cell_type": "code",
   "execution_count": 50,
   "metadata": {},
   "outputs": [
    {
     "name": "stdout",
     "output_type": "stream",
     "text": [
      "[[0.63292776 1.74823392]]\n",
      "[[0.42208244 1.24392885]]\n"
     ]
    },
    {
     "data": {
      "text/plain": [
       "[<matplotlib.lines.Line2D at 0x7fdeb5288a90>,\n",
       " <matplotlib.lines.Line2D at 0x7fdeb5288b50>]"
      ]
     },
     "execution_count": 50,
     "metadata": {},
     "output_type": "execute_result"
    },
    {
     "data": {
      "image/png": "[encoded data removed]",
      "text/plain": [
       "<Figure size 432x288 with 1 Axes>"
      ]
     },
     "metadata": {
      "needs_background": "light"
     },
     "output_type": "display_data"
    }
   ],
   "source": [
    "import numpy as np\n",
    "import matplotlib.pyplot as plt\n",
    "from pydrake.all import (DirectTranscription, LinearSystem, LinearQuadraticRegulator, \n",
    "                         PiecewisePolynomial, SolutionResult)\n",
    "A = np.array([[1, 1], [0, 1]])\n",
    "B = np.array([[0], [1]])\n",
    "Q = np.identity(2)\n",
    "R = np.identity(1)\n",
    "\n",
    "sys = LinearSystem(A,B,np.identity(2),np.zeros((2,1)),0.1)\n",
    "context = sys.CreateDefaultContext()\n",
    "kNumTimeSteps = 41  # Note: When this was 21, it converged on a local minima.\n",
    "\n",
    "prog = DirectTranscription(sys, context, kNumTimeSteps)\n",
    "K = prog.NewContinuousVariables(1, 2, 'K')\n",
    "prog.AddConstraintToAllKnotPoints(prog.input()[0] == (-K.dot(prog.state()))[0])\n",
    "prog.AddRunningCost(prog.state().dot(Q.dot(prog.state())) + prog.input().dot(R.dot(prog.input())))\n",
    "prog.AddBoundingBoxConstraint([1., 1.], [1., 1.], prog.initial_state())\n",
    "\n",
    "############################################################\n",
    "# Single AddCost()\n",
    "############################################################\n",
    "from NNSystemHelper import FC, MLP, NNInferenceHelper\n",
    "# net = FC().double()\n",
    "net = MLP().double()\n",
    "def autodiffable_function_nn(drake_in):\n",
    "    global net\n",
    "    in_list = list(drake_in)\n",
    "    out_list = NNInferenceHelper(net, in_list)\n",
    "    return out_list[0]\n",
    "def autodiffable_function_simple(x):\n",
    "    return (x[0]-2.)*(x[1]-2.)\n",
    "prog.AddCost(autodiffable_function_simple, K.T)\n",
    "prog.AddCost(autodiffable_function_nn, K.T)\n",
    "############################################################\n",
    "# AddRunningCost()\n",
    "############################################################\n",
    "from NNSystemHelper import FC, MLP, NNInferenceHelper\n",
    "# net = FC().double()\n",
    "net = MLP().double()\n",
    "def autodiffable_function_nn(drake_in):\n",
    "    global net\n",
    "    in_list = list(drake_in)\n",
    "    out_list = NNInferenceHelper(net, in_list)\n",
    "    return out_list[0]\n",
    "def autodiffable_function_simple(x):\n",
    "    return (x[0]-2.)*(x[1]-2.)\n",
    "prog.AddCost(autodiffable_function_simple, K.T)\n",
    "prog.AddCost(autodiffable_function_nn, K.T)\n",
    "############################################################\n",
    "\n",
    "ret = prog.Solve()\n",
    "print(prog.GetSolution(K))\n",
    "\n",
    "x_trajectory = prog.ReconstructStateTrajectory()\n",
    "breaks = np.linspace(x_trajectory.start_time(),x_trajectory.end_time(),100)\n",
    "x_knots = np.hstack([x_trajectory.value(t) for t in breaks])\n",
    "\n",
    "K_expected = -LinearQuadraticRegulator(sys, Q, R).D()\n",
    "print(K_expected)\n",
    "\n",
    "plt.plot(breaks, x_knots[0,:], breaks, x_knots[1,:])"
   ]
  },
  {
   "cell_type": "code",
   "execution_count": null,
   "metadata": {},
   "outputs": [],
   "source": []
  }
 ],
 "metadata": {
  "kernelspec": {
   "display_name": "Python 2",
   "language": "python",
   "name": "python2"
  },
  "language_info": {
   "codemirror_mode": {
    "name": "ipython",
    "version": 2
   },
   "file_extension": ".py",
   "mimetype": "text/x-python",
   "name": "python",
   "nbconvert_exporter": "python",
   "pygments_lexer": "ipython2",
   "version": "2.7.12"
  }
 },
 "nbformat": 4,
 "nbformat_minor": 2
}
