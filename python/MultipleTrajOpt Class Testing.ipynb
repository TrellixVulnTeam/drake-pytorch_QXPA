{
 "cells": [
  {
   "cell_type": "code",
   "execution_count": 1,
   "metadata": {},
   "outputs": [],
   "source": [
    "%matplotlib inline\n",
    "%load_ext autoreload\n",
    "%autoreload 2"
   ]
  },
  {
   "cell_type": "code",
   "execution_count": 2,
   "metadata": {},
   "outputs": [],
   "source": [
    "from __future__ import print_function, absolute_import\n",
    "import matplotlib.pyplot as plt\n",
    "import numpy as np"
   ]
  },
  {
   "cell_type": "markdown",
   "metadata": {},
   "source": [
    "## Trying out multiple trajectories with Russ's example code and Pendulum env"
   ]
  },
  {
   "cell_type": "code",
   "execution_count": 3,
   "metadata": {},
   "outputs": [],
   "source": [
    "# import torch\n",
    "# torch.manual_seed(1776)\n",
    "\n",
    "from multiple_traj_opt import (\n",
    "    MultipleTrajOpt,\n",
    "    initial_conditions_Russ,\n",
    "    initial_conditions_grid,\n",
    "    initial_conditions_random,\n",
    ")\n",
    "from nn_system.networks import *\n",
    "\n",
    "###############################################\n",
    "# Construct the inital MathematicalProgram\n",
    "###############################################\n",
    "num_trajectories = 1\n",
    "num_samples      = 15\n",
    "initial_conditions = (\n",
    "    None,\n",
    "#     \"1\",\n",
    "#     \"2\",\n",
    "#     \"3\",\n",
    ")[0]\n",
    "# seed = 1776\n",
    "seed = None\n",
    "mto = MultipleTrajOpt(\"pendulum\",\n",
    "                      num_trajectories, \n",
    "                      num_samples,\n",
    "                      ic_list=None,\n",
    "                      warm_start=True,\n",
    "                      seed=seed)\n",
    "\n",
    "\n",
    "###############################################\n",
    "# Add a neural network!\n",
    "###############################################\n",
    "# kNetConstructor = lambda: FC(2)\n",
    "kNetConstructor = lambda: FCBIG(2)\n",
    "# kNetConstructor = lambda: MLPSMALL(2)\n",
    "# kNetConstructor = lambda: MLP(2)\n",
    "reg_type = \"No\"\n",
    "# reg_type = \"L1\"\n",
    "# reg_type = \"L2\"\n",
    "mto.add_nn_params(kNetConstructor,\n",
    "                  initialize_params = True, \n",
    "                  reg_type          = reg_type,\n",
    "                  enable_constraint = True)"
   ]
  },
  {
   "cell_type": "code",
   "execution_count": 4,
   "metadata": {},
   "outputs": [],
   "source": [
    "# Introduce a scaling factor in (0, 1] that can be used to shrink the initial\n",
    "# conditions regions used for policy rollouts, so we can check an area SMALLER\n",
    "# than that which was used for dircol calculations!\n",
    "scaling = 0.5\n",
    "mto.add_multiple_trajectories_visualization_callback(vis_ic_list=None)\n",
    "mto.add_cost_and_constraint_printing_callback()"
   ]
  },
  {
   "cell_type": "code",
   "execution_count": null,
   "metadata": {
    "scrolled": true
   },
   "outputs": [
    {
     "name": "stdout",
     "output_type": "stream",
     "text": [
      "there are 2 cbs\n",
      " 1"
     ]
    },
    {
     "data": {
      "image/png": "[encoded data removed]",
      "text/plain": [
       "<Figure size 432x288 with 1 Axes>"
      ]
     },
     "metadata": {
      "needs_background": "light"
     },
     "output_type": "display_data"
    },
    {
     "name": "stdout",
     "output_type": "stream",
     "text": [
      "total cost:  0.00 | \tconstraint -183.39 \tbad 18, -183.95\n",
      " 3total cost:  0.00 | \tconstraint -183.39 \tbad 18, -183.96\n",
      " 5total cost:  0.68 | \tconstraint -175.49 \tbad 31, -175.61\n",
      " 7total cost:  6.16 | \tconstraint -166.87 \tbad 30, -167.16\n",
      " 9total cost:  6.29 | \tconstraint -149.90 \tbad 30, -150.03\n",
      " 11total cost:  32.65 | \tconstraint -51.46 \tbad 31, -51.66\n",
      " 13total cost:  26.10 | \tconstraint -96.03 \tbad 30, -96.15\n",
      " 15total cost:  23.65 | \tconstraint -140.17 \tbad 30, -140.20\n",
      " 17total cost:  23.34 | \tconstraint -122.14 \tbad 29, -122.30\n",
      " 19total cost:  23.28 | \tconstraint -128.66 \tbad 30, -129.03\n",
      " 21total cost:  23.32 | \tconstraint -123.99 \tbad 29, -124.17\n",
      " 23total cost:  23.34 | \tconstraint -122.51 \tbad 29, -122.67\n",
      " 25total cost:  23.22 | \tconstraint -98.31 \tbad 30, -98.64\n",
      " 27total cost:  23.22 | \tconstraint -126.33 \tbad 29, -126.58\n",
      " 29total cost:  23.50 | \tconstraint -129.33 \tbad 29, -129.32\n",
      " 31total cost:  23.48 | \tconstraint -131.63 \tbad 29, -131.67\n",
      " 33total cost:  23.43 | \tconstraint -137.16 \tbad 29, -137.23\n",
      " 35"
     ]
    },
    {
     "data": {
      "image/png": "[encoded data removed]",
      "text/plain": [
       "<Figure size 432x288 with 1 Axes>"
      ]
     },
     "metadata": {
      "needs_background": "light"
     },
     "output_type": "display_data"
    },
    {
     "name": "stdout",
     "output_type": "stream",
     "text": [
      "total cost:  23.46 | \tconstraint -133.47 \tbad 29, -133.52\n",
      " 37total cost:  23.42 | \tconstraint -138.61 \tbad 29, -138.65\n",
      " 39total cost:  23.46 | \tconstraint -133.98 \tbad 29, -134.03\n",
      " 41total cost:  23.45 | \tconstraint -134.74 \tbad 29, -134.79\n",
      " 43total cost:  23.45 | \tconstraint -134.29 \tbad 29, -134.34\n",
      " 45total cost:  23.44 | \tconstraint -136.17 \tbad 29, -136.20\n",
      " 47total cost:  23.45 | \tconstraint -134.55 \tbad 29, -134.59\n",
      " 49total cost:  23.45 | \tconstraint -134.36 \tbad 29, -134.40\n",
      " 51total cost:  23.45 | \tconstraint -134.41 \tbad 29, -134.46\n",
      " 53total cost:  23.45 | \tconstraint -134.37 \tbad 29, -134.42\n",
      " 55total cost:  23.45 | \tconstraint -134.38 \tbad 29, -134.43\n",
      " 57total cost:  23.45 | \tconstraint -134.37 \tbad 29, -134.42\n",
      " 59total cost:  23.45 | \tconstraint -134.37 \tbad 29, -134.42\n",
      " 61total cost:  23.45 | \tconstraint -134.37 \tbad 29, -134.42\n",
      " 63total cost:  23.45 | \tconstraint -134.37 \tbad 29, -134.42\n",
      " 65total cost:  23.73 | \tconstraint -156.76 \tbad 30, -156.85\n",
      " 67total cost:  23.45 | \tconstraint -135.42 \tbad 29, -135.46\n",
      " 69"
     ]
    },
    {
     "data": {
      "image/png": "[encoded data removed]",
      "text/plain": [
       "<Figure size 432x288 with 1 Axes>"
      ]
     },
     "metadata": {
      "needs_background": "light"
     },
     "output_type": "display_data"
    },
    {
     "name": "stdout",
     "output_type": "stream",
     "text": [
      "total cost:  23.45 | \tconstraint -134.47 \tbad 29, -134.52\n",
      " 71total cost:  23.45 | \tconstraint -134.37 \tbad 29, -134.42\n",
      " 73total cost:  23.45 | \tconstraint -134.37 \tbad 29, -134.42\n",
      " 75total cost:  23.45 | \tconstraint -134.37 \tbad 29, -134.42\n",
      " 77total cost:  23.45 | \tconstraint -134.37 \tbad 29, -134.42\n",
      " 79total cost:  23.45 | \tconstraint -134.37 \tbad 29, -134.42\n",
      " 81total cost:  23.45 | \tconstraint -134.37 \tbad 29, -134.42\n",
      " 83total cost:  23.45 | \tconstraint -134.37 \tbad 29, -134.42\n",
      " 85total cost:  23.58 | \tconstraint -139.40 \tbad 29, -139.50\n",
      " 87total cost:  23.44 | \tconstraint -135.44 \tbad 29, -135.50\n",
      " 89total cost:  23.43 | \tconstraint -136.09 \tbad 30, -136.17\n",
      " 91total cost:  23.80 | \tconstraint -133.88 \tbad 30, -134.25\n",
      " 93total cost:  23.45 | \tconstraint -135.24 \tbad 30, -135.44\n",
      " 95total cost:  23.42 | \tconstraint -135.70 \tbad 30, -135.83\n",
      " 97total cost:  23.37 | \tconstraint -133.02 \tbad 30, -133.04\n",
      " 99total cost:  24.77 | \tconstraint -105.33 \tbad 30, -105.57\n",
      " 101total cost:  23.30 | \tconstraint -127.71 \tbad 31, -127.91\n",
      " 103"
     ]
    }
   ],
   "source": [
    "result = mto.Solve()\n",
    "print(result)"
   ]
  },
  {
   "cell_type": "code",
   "execution_count": null,
   "metadata": {},
   "outputs": [],
   "source": [
    "ti = 0    \n",
    "mto.print_pi_divergence(ti)"
   ]
  },
  {
   "cell_type": "code",
   "execution_count": null,
   "metadata": {},
   "outputs": [],
   "source": [
    "ti = 0\n",
    "mto.plot_policy(\"state_scatter\", ti)"
   ]
  },
  {
   "cell_type": "code",
   "execution_count": null,
   "metadata": {
    "scrolled": true
   },
   "outputs": [],
   "source": [
    "ti = 0\n",
    "mto.render_policy(ti)"
   ]
  },
  {
   "cell_type": "code",
   "execution_count": null,
   "metadata": {},
   "outputs": [],
   "source": [
    "mto.plot_all_trajectories(\"state_scatter\")\n",
    "mto.plot_all_trajectories(\"state_quiver\")\n",
    "mto.plot_all_trajectories(\"tip_scatter\")\n",
    "mto.plot_all_trajectories(\"tip_quiver\")"
   ]
  },
  {
   "cell_type": "markdown",
   "metadata": {},
   "source": [
    "### Visualize the found trajectories"
   ]
  },
  {
   "cell_type": "code",
   "execution_count": null,
   "metadata": {},
   "outputs": [],
   "source": [
    "ti = 0\n",
    "mto.plot_single_trajectory(ti, \"state_scatter\")\n",
    "mto.plot_single_trajectory(ti, \"state_quiver\")\n",
    "mto.plot_single_trajectory(ti, \"tip_scatter\")\n",
    "mto.plot_single_trajectory(ti, \"tip_quiver\")\n",
    "\n",
    "mto.render_single_trajectory(ti)"
   ]
  },
  {
   "cell_type": "code",
   "execution_count": null,
   "metadata": {},
   "outputs": [],
   "source": []
  }
 ],
 "metadata": {
  "kernelspec": {
   "display_name": "Python 2",
   "language": "python",
   "name": "python2"
  },
  "language_info": {
   "codemirror_mode": {
    "name": "ipython",
    "version": 2
   },
   "file_extension": ".py",
   "mimetype": "text/x-python",
   "name": "python",
   "nbconvert_exporter": "python",
   "pygments_lexer": "ipython2",
   "version": "2.7.12"
  }
 },
 "nbformat": 4,
 "nbformat_minor": 2
}
