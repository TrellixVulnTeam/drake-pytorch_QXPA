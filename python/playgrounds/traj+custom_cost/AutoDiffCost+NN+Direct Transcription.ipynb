{
 "cells": [
  {
   "cell_type": "code",
   "execution_count": 111,
   "metadata": {},
   "outputs": [
    {
     "name": "stdout",
     "output_type": "stream",
     "text": [
      "[[0.46469871 1.11848353]]\n",
      "[[0.42208244 1.24392885]]\n"
     ]
    },
    {
     "data": {
      "text/plain": [
       "[<matplotlib.lines.Line2D at 0x7fdeb3be0e10>,\n",
       " <matplotlib.lines.Line2D at 0x7fdeb3be0ed0>]"
      ]
     },
     "execution_count": 111,
     "metadata": {},
     "output_type": "execute_result"
    },
    {
     "data": {
      "image/png": "[encoded data removed]",
      "text/plain": [
       "<Figure size 432x288 with 1 Axes>"
      ]
     },
     "metadata": {
      "needs_background": "light"
     },
     "output_type": "display_data"
    }
   ],
   "source": [
    "import numpy as np\n",
    "import matplotlib.pyplot as plt\n",
    "from pydrake.all import (DirectTranscription, LinearSystem, LinearQuadraticRegulator, \n",
    "                         PiecewisePolynomial, SolutionResult)\n",
    "A = np.array([[1, 1], [0, 1]])\n",
    "B = np.array([[0], [1]])\n",
    "Q = np.identity(2)\n",
    "R = np.identity(1)\n",
    "\n",
    "sys = LinearSystem(A,B,np.identity(2),np.zeros((2,1)),0.1)\n",
    "context = sys.CreateDefaultContext()\n",
    "kNumTimeSteps = 41  # Note: When this was 21, it converged on a local minima.\n",
    "\n",
    "prog = DirectTranscription(sys, context, kNumTimeSteps)\n",
    "K = prog.NewContinuousVariables(1, 2, 'K')\n",
    "prog.AddConstraintToAllKnotPoints(prog.input()[0] == (-K.dot(prog.state()))[0])\n",
    "prog.AddRunningCost(prog.state().dot(Q.dot(prog.state())) + prog.input().dot(R.dot(prog.input())))\n",
    "prog.AddBoundingBoxConstraint([1., 1.], [1., 1.], prog.initial_state())\n",
    "\n",
    "\n",
    "############################################################\n",
    "# My Custom Autodiff Functions\n",
    "############################################################\n",
    "from NNSystemHelper import FC, MLP, NNInferenceHelper\n",
    "# net = FC().double()\n",
    "net = MLP().double()\n",
    "def autodiffable_function_simple(x):\n",
    "    return (x[0]-2.)*(x[1]-2.)\n",
    "def autodiffable_function_nn(drake_in):\n",
    "    global net\n",
    "    in_list = list(drake_in)\n",
    "    out_list = NNInferenceHelper(net, in_list)\n",
    "    return out_list[0]\n",
    "\n",
    "############################################################\n",
    "# Single AddCost()\n",
    "############################################################\n",
    "# prog.AddCost(autodiffable_function_simple, K.T)\n",
    "# prog.AddCost(autodiffable_function_nn, K.T)\n",
    "\n",
    "############################################################\n",
    "# AddRunningCost()\n",
    "############################################################\n",
    "def autodiffable_function_nn_real(state_concat_inp):\n",
    "    # Unpack variables\n",
    "    x_sz = len(prog.state(0))\n",
    "    u_sz = len(prog.input(0))\n",
    "    assert len(state_concat_inp) == x_sz + u_sz\n",
    "    x = state_concat_inp[:x_sz]\n",
    "    u = state_concat_inp[-u_sz:]\n",
    "    \n",
    "    # Should we use an NN? or not.\n",
    "    ad_fn = autodiffable_function_simple\n",
    "#     ad_fn = autodiffable_function_nn\n",
    "    \n",
    "    lam, rho = 1, 1 # For now, set the dual variables to constants\n",
    "    cost = lam * (ad_fn(x) - u) \\\n",
    "        + rho * (ad_fn(x) - u).dot(ad_fn(x) - u)\n",
    "    return cost[0]\n",
    "\n",
    "# prog.AddCost(autodiffable_function_nn_real, np.hstack((prog.state(0), prog.input(0)))) # For debugging\n",
    "# Looking to add cost of form 𝜆_𝑡(𝜋_𝜃(𝑥_𝑡) − 𝑢_𝑡) + 𝜌_𝑡(𝜋_𝜃(𝑥_𝑡) − 𝑢_𝑡)^2\n",
    "for t in range(kNumTimeSteps):\n",
    "    prog.AddCost(autodiffable_function_nn_real, np.hstack((prog.state(t), prog.input(t))))\n",
    "    pass\n",
    "############################################################\n",
    "\n",
    "ret = prog.Solve()\n",
    "print(prog.GetSolution(K))\n",
    "\n",
    "x_trajectory = prog.ReconstructStateTrajectory()\n",
    "breaks = np.linspace(x_trajectory.start_time(),x_trajectory.end_time(),100)\n",
    "x_knots = np.hstack([x_trajectory.value(t) for t in breaks])\n",
    "\n",
    "K_expected = -LinearQuadraticRegulator(sys, Q, R).D()\n",
    "print(K_expected)\n",
    "\n",
    "plt.plot(breaks, x_knots[0,:], breaks, x_knots[1,:])"
   ]
  },
  {
   "cell_type": "code",
   "execution_count": null,
   "metadata": {},
   "outputs": [],
   "source": []
  }
 ],
 "metadata": {
  "kernelspec": {
   "display_name": "Python 2",
   "language": "python",
   "name": "python2"
  },
  "language_info": {
   "codemirror_mode": {
    "name": "ipython",
    "version": 2
   },
   "file_extension": ".py",
   "mimetype": "text/x-python",
   "name": "python",
   "nbconvert_exporter": "python",
   "pygments_lexer": "ipython2",
   "version": "2.7.12"
  }
 },
 "nbformat": 4,
 "nbformat_minor": 2
}
