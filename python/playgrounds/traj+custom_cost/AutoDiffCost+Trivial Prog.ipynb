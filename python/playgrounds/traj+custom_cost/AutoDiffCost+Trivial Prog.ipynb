{
 "cells": [
  {
   "cell_type": "code",
   "execution_count": 132,
   "metadata": {},
   "outputs": [],
   "source": [
    "%load_ext autoreload\n",
    "%autoreload 2"
   ]
  },
  {
   "cell_type": "code",
   "execution_count": 155,
   "metadata": {},
   "outputs": [
    {
     "name": "stdout",
     "output_type": "stream",
     "text": [
      "SolutionResult.kSolutionFound SolutionResult.kSolutionFound\n",
      "False\n",
      "[ 2.17291427 -9.08698281]\n"
     ]
    }
   ],
   "source": [
    "from __future__ import print_function, absolute_import\n",
    "\n",
    "import numpy as np\n",
    "import matplotlib.pyplot as plt\n",
    "\n",
    "import pydrake\n",
    "from pydrake.all import (\n",
    "    SolutionResult\n",
    ")\n",
    "from pydrake.solvers import mathematicalprogram as mp\n",
    "from pydrake.solvers.mathematicalprogram import SolverType\n",
    "\n",
    "\n",
    "\n",
    "prog = mp.MathematicalProgram()\n",
    "x = prog.NewContinuousVariables(2, \"x\")\n",
    "# prog.AddLinearConstraint(x[0] >= 1)\n",
    "# prog.AddLinearConstraint(x[1] >= 1)\n",
    "# prog.AddQuadraticCost(np.eye(2), np.zeros(2), x)\n",
    "# Redundant cost just to check the spelling.\n",
    "# prog.AddQuadraticErrorCost(vars=x, Q=np.eye(2),\n",
    "#                            x_desired=np.zeros(2))\n",
    "# prog.AddL2NormCost(A=np.eye(2), b=np.zeros(2), vars=x)\n",
    "    \n",
    "from NNSystemHelper import FC, MLP, NNInferenceHelper\n",
    "# net = FC()\n",
    "net = MLP()\n",
    "\n",
    "# This function uses an neural network, but only has one output...\n",
    "def autodiffable_function_nn(drake_in):\n",
    "    global net\n",
    "    in_list = list(drake_in)\n",
    "    out_list = NNInferenceHelper(net, in_list)\n",
    "    return out_list[0]\n",
    "\n",
    "def autodiffable_function_simple(x):\n",
    "    return (x[0]-2.)*(x[1]-2.)\n",
    "\n",
    "# prog.AddCost(autodiffable_function_simple, x)\n",
    "prog.AddCost(autodiffable_function_nn, x)\n",
    "\n",
    "result = prog.Solve()\n",
    "print(result, mp.SolutionResult.kSolutionFound)\n",
    "x_expected = np.array([1, 1])\n",
    "print(np.allclose(prog.GetSolution(x), x_expected))\n",
    "print(prog.GetSolution(x))"
   ]
  },
  {
   "cell_type": "code",
   "execution_count": null,
   "metadata": {},
   "outputs": [],
   "source": []
  }
 ],
 "metadata": {
  "kernelspec": {
   "display_name": "Python 2",
   "language": "python",
   "name": "python2"
  },
  "language_info": {
   "codemirror_mode": {
    "name": "ipython",
    "version": 2
   },
   "file_extension": ".py",
   "mimetype": "text/x-python",
   "name": "python",
   "nbconvert_exporter": "python",
   "pygments_lexer": "ipython2",
   "version": "2.7.12"
  }
 },
 "nbformat": 4,
 "nbformat_minor": 2
}
