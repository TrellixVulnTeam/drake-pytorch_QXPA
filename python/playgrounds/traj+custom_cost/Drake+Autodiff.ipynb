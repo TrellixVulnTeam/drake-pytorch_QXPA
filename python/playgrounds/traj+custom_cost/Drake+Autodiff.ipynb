{
 "cells": [
  {
   "cell_type": "code",
   "execution_count": 214,
   "metadata": {},
   "outputs": [
    {
     "name": "stdout",
     "output_type": "stream",
     "text": [
      "The autoreload extension is already loaded. To reload it, use:\n",
      "  %reload_ext autoreload\n"
     ]
    }
   ],
   "source": [
    "%load_ext autoreload\n",
    "%autoreload 2"
   ]
  },
  {
   "cell_type": "code",
   "execution_count": 215,
   "metadata": {},
   "outputs": [],
   "source": [
    "# High-level imports test\n",
    "import pydrake\n",
    "import torch\n",
    "import numpy as np"
   ]
  },
  {
   "cell_type": "code",
   "execution_count": 216,
   "metadata": {},
   "outputs": [
    {
     "data": {
      "text/plain": [
       "False"
      ]
     },
     "execution_count": 216,
     "metadata": {},
     "output_type": "execute_result"
    }
   ],
   "source": [
    "torch.compiled_with_cxx11_abi()"
   ]
  },
  {
   "cell_type": "markdown",
   "metadata": {},
   "source": [
    "## Test 1: pytorch gradients -> np.array of pydrake.AutoDiffXd's"
   ]
  },
  {
   "cell_type": "code",
   "execution_count": 217,
   "metadata": {},
   "outputs": [
    {
     "data": {
      "text/plain": [
       "<torch._C.Generator at 0x7f23121a87b0>"
      ]
     },
     "execution_count": 217,
     "metadata": {},
     "output_type": "execute_result"
    }
   ],
   "source": [
    "import torch.nn as nn\n",
    "import torch.nn.functional as F\n",
    "import torch.optim as optim\n",
    "\n",
    "torch.manual_seed(1)"
   ]
  },
  {
   "cell_type": "code",
   "execution_count": 218,
   "metadata": {},
   "outputs": [
    {
     "name": "stdout",
     "output_type": "stream",
     "text": [
      "tensor([[ 0.1455, -0.4936, -0.4120],\n",
      "        [-0.6613, -0.2842, -0.1649]], grad_fn=<AddmmBackward>)\n"
     ]
    },
    {
     "data": {
      "text/plain": [
       "dtype('float64')"
      ]
     },
     "execution_count": 218,
     "metadata": {},
     "output_type": "execute_result"
    }
   ],
   "source": [
    "lin = nn.Linear(5, 3)    # maps from R^5 to R^3, parameters A, b\n",
    "data = torch.from_numpy(np.random.randn(2, 5).astype(np.float32)) # data is 2x5.  A maps from 5 to 3... can we map \"data\" under A?\n",
    "print(lin(data))\n",
    "# print(F.relu(lin(data)))\n",
    "np.random.randn(2, 5).dtype"
   ]
  },
  {
   "cell_type": "code",
   "execution_count": 219,
   "metadata": {},
   "outputs": [
    {
     "data": {
      "text/plain": [
       "tensor([[-1.1948,  0.0250, -0.7627,  1.3969, -0.3245],\n",
       "        [ 0.2879,  1.0579,  0.9621,  0.3935,  1.1322]])"
      ]
     },
     "execution_count": 219,
     "metadata": {},
     "output_type": "execute_result"
    }
   ],
   "source": [
    "torch.randn(2, 5)"
   ]
  },
  {
   "cell_type": "code",
   "execution_count": 180,
   "metadata": {},
   "outputs": [
    {
     "name": "stdout",
     "output_type": "stream",
     "text": [
      "(1.5, array([], dtype=float64))\n",
      "(1.5, array([0., 0., 0.]))\n"
     ]
    }
   ],
   "source": [
    "import pydrake\n",
    "import pydrake.autodiffutils\n",
    "from pydrake.autodiffutils import AutoDiffXd\n",
    "\n",
    "x = AutoDiffXd(1.5)\n",
    "arr = np.ndarray((3,), buffer=np.array([1,2,3]), dtype=np.float64)\n",
    "y = AutoDiffXd(1.5, arr)\n",
    "for var in (x, y):\n",
    "    print(var.value(), var.derivatives())"
   ]
  },
  {
   "cell_type": "markdown",
   "metadata": {},
   "source": [
    "## Test 2: Implement a pydrake LeafSystem and get pytorch ff bits working"
   ]
  },
  {
   "cell_type": "markdown",
   "metadata": {},
   "source": [
    "This is a great reference!\n",
    "https://github.com/RobotLocomotion/drake/blob/master/bindings/pydrake/systems/test/custom_test.py"
   ]
  },
  {
   "cell_type": "code",
   "execution_count": 183,
   "metadata": {},
   "outputs": [],
   "source": [
    "from NNSystem import NNSystem\n",
    "from NNTestSetup import NNTestSetup"
   ]
  },
  {
   "cell_type": "code",
   "execution_count": null,
   "metadata": {},
   "outputs": [],
   "source": [
    "# NOT passing in a pytorch net.\n",
    "nn_test_setup = NNTestSetup()\n",
    "nn_test_setup.RunSimulation()"
   ]
  },
  {
   "cell_type": "code",
   "execution_count": 210,
   "metadata": {},
   "outputs": [],
   "source": [
    "# Giving NNSystem a pytorch net.\n",
    "class MLP(nn.Module):\n",
    "    def __init__(self, layer_norm=False):\n",
    "        super(MLP, self).__init__()\n",
    "        self.layer_norm = layer_norm\n",
    "\n",
    "        self.l1 = nn.Linear(4, 64)\n",
    "        self.ln1 = nn.LayerNorm(64)\n",
    "        self.tanh1 = F.tanh\n",
    "        self.l2 = nn.Linear(64, 64)\n",
    "        self.ln2 = nn.LayerNorm(64)\n",
    "        self.tanh2 = F.tanh\n",
    "        self.l3 = nn.Linear(64, 3)\n",
    "    \n",
    "    def forward(self, x):\n",
    "        x = self.l1(x)\n",
    "        if self.layer_norm: x = self.ln1(x)\n",
    "        x = self.tanh1(x)\n",
    "        x = self.l2(x)\n",
    "        if self.layer_norm: x = self.ln2(x)\n",
    "        x = self.tanh2(x)\n",
    "        x = self.l3(x)\n",
    "        return x\n",
    "    \n",
    "nn_test_setup = NNTestSetup(pytorch_nn_object=MLP())\n",
    "nn_test_setup.RunSimulation()"
   ]
  },
  {
   "cell_type": "markdown",
   "metadata": {},
   "source": [
    "## Test 3: Propagate autodiff bits in the LeafSystem. May require dropping down into c++"
   ]
  },
  {
   "cell_type": "code",
   "execution_count": null,
   "metadata": {},
   "outputs": [],
   "source": [
    "net = MLP()\n",
    "list(net.modules())[1].in_features\n",
    "# list(net.modules())[-1].out_features"
   ]
  },
  {
   "cell_type": "code",
   "execution_count": null,
   "metadata": {},
   "outputs": [],
   "source": [
    "x = torch.randn(1, 4, requires_grad=True)\n",
    "out = net.forward(x)\n",
    "out"
   ]
  },
  {
   "cell_type": "code",
   "execution_count": null,
   "metadata": {},
   "outputs": [],
   "source": [
    "# net.zero_grad()\n",
    "# out.backward(torch.ones(3, 1))\n",
    "out.backward()"
   ]
  },
  {
   "cell_type": "code",
   "execution_count": null,
   "metadata": {},
   "outputs": [],
   "source": [
    "print(x.grad)"
   ]
  },
  {
   "cell_type": "code",
   "execution_count": null,
   "metadata": {},
   "outputs": [],
   "source": []
  }
 ],
 "metadata": {
  "kernelspec": {
   "display_name": "Python 2",
   "language": "python",
   "name": "python2"
  },
  "language_info": {
   "codemirror_mode": {
    "name": "ipython",
    "version": 2
   },
   "file_extension": ".py",
   "mimetype": "text/x-python",
   "name": "python",
   "nbconvert_exporter": "python",
   "pygments_lexer": "ipython2",
   "version": "2.7.12"
  }
 },
 "nbformat": 4,
 "nbformat_minor": 2
}
